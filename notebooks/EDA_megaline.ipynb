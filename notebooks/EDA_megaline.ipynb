{
 "cells": [
  {
   "cell_type": "markdown",
   "metadata": {},
   "source": [
    "HolaAlberto!\n",
    "\n",
    "Mi nombre es Miguel Gutierrez y revisare tu proyecto ! Para darte un contexto, trabajo como cientifico de datos en Mercado Libre. Asi que seras revisado por alguien que aplica a diario todo este tipo de tecnicas en su vida laboral ! Espero una vez finalizes este bootcamp, tambien lo apliques ! Buena suerte !\n",
    "\n",
    "Cuando vea un error la primera vez, lo señalare. Dejare que encuentres la solucion. Tambien en el texto hare algunas observaciones de como podrias mejorar el codio y tambien hare comentarios de tus percepciones sobre el tema. Si no pueds manejar la tarea, te dare una pista precisa en la siguiente iteraciones y algunos ejemplos practicos. Estare abierto a cualquierda duda y discusion respecto al tema. En general los comentarios de advertencia tu decides si tomarlos o no. No es necesario que acates todos los cambios de advertencia.\n",
    "\n",
    "Encontraras mis comentarios en el siguiente formato - *Por favor no mueves, modifiques o elimines los comentarios*.\n",
    "\n",
    "Podras encontrar mis comentarios en verde, amarillo o rojo como estos:\n",
    "\n",
    "\n",
    "<div class=\"alert alert-block alert-success\">\n",
    "<b>Comentario revisor</b> <a class=\"tocSkip\"></a>\n",
    "\n",
    "Excelente. Todo esta perfecto.\n",
    "</div>\n",
    "\n",
    "<div class=\"alert alert-block alert-warning\">\n",
    "<b>Comentario revisor</b> <a class=\"tocSkip\"></a>\n",
    "\n",
    "Comentarios. Algunas recomendaciones.\n",
    "</div>\n",
    "\n",
    "<div class=\"alert alert-block alert-danger\">\n",
    "\n",
    "<b>Comentario revisor</b> <a class=\"tocSkip\"></a>\n",
    "\n",
    "Necesita ser arreglado. El bloque requiere algunas correciones. El trabajo no podra ser acceptado si tiene comentarios en rojo.\n",
    "</div>\n",
    "\n",
    "Puedes responderme utilizando este tipo de comentario:\n",
    "\n",
    "<div class=\"alert alert-block alert-info\">\n",
    "<b>Respuesta estudiante.</b> <a class=\"tocSkip\"></a>\n",
    "</div>"
   ]
  },
  {
   "cell_type": "markdown",
   "metadata": {
    "id": "3rYiDeEH0q0f"
   },
   "source": [
    "# ¿Cuál es la mejor tarifa?\n",
    "\n",
    "Trabajas como analista para el operador de telecomunicaciones Megaline. La empresa ofrece a sus clientes dos tarifas de prepago, Surf y Ultimate. El departamento comercial quiere saber cuál de las tarifas genera más ingresos para poder ajustar el presupuesto de publicidad.\n",
    "\n",
    "Vas a realizar un análisis preliminar de las tarifas basado en una selección de clientes relativamente pequeña. Tendrás los datos de 500 clientes de Megaline: quiénes son los clientes, de dónde son, qué tarifa usan, así como la cantidad de llamadas que hicieron y los mensajes de texto que enviaron en 2018. Tu trabajo es analizar el comportamiento de los clientes y determinar qué tarifa de prepago genera más ingresos."
   ]
  },
  {
   "cell_type": "markdown",
   "metadata": {
    "id": "VNddPNRQ0q0w"
   },
   "source": [
    "#### Procedimiento a realizar:\n",
    "1. Se hará la carga de librerias necesarias\n",
    "2. Se hará la carga de los datos necesarios para trabajar\n",
    "3. Se explora cada uno de los DF para tener una comprensión inicial de los datos y de ser necesario, corregir psibles errores en ellos. Esto involucra:\n",
    "   - Corregir errores de lectura (si los hay)\n",
    "   - Corregir nombres de columna y tipos de dato de las tablas\n",
    "   - Buscar valores ausentes\n",
    "   - Buscar y corregir filas total y parcialmente duplicadas.\n",
    "   - Enriquecer los datos: Usar ingeniería de características para crear nuevas columnas en los DF que puedan ser útiles para el análisis\n",
    "4. Los DF calls, messages e internet contienen información de las llamadas, mensajes e internet que gastaron los usuarios a lo largo del mes. \n",
    " 1. Se fusionarán estos DF con la información de los usuarios y su plan contratado correspondiente para obtener el consumo total mensual por usuario y por plan\n",
    " 2. Usando la información obtenida en el paso uno, se calcularán las cuotas totales mensuales de acuerdo a las condiciones de las tarifas de los planes surf y ultimate\n",
    "5. Se analizará estadísticamente los minutos, llamadas y gigabytes mensuales consumidos por los clientes de los dos planes. Se compararán estos resultados para analizar el comportamiento de los usuarios de ambos planes.\n",
    "6. Se compararán las ganancias mensuales obtenidas por ambos planes.\n",
    "7. Realizaremos una prueba de hipotesis para asegurar estadísticamente si las ganancias entre planes son iguales o distintas, ya sea por plan, o por regiones.\n",
    " 1. Haremos una prueba para determinar si las ganancias mensuales entre los planes surf y ultimate difieren entre sí\n",
    " 2. Haremos una prueba para determinar si las ganancias mensuales de la región NY-NJ son similares en comparación con las ganancias de las demás regiones."
   ]
  },
  {
   "cell_type": "markdown",
   "metadata": {
    "id": "MQi4IPy70q0y"
   },
   "source": [
    "## Inicialización"
   ]
  },
  {
   "cell_type": "code",
   "execution_count": 1,
   "metadata": {
    "id": "MtYIuBxu0q0z"
   },
   "outputs": [],
   "source": [
    "# Se cargan todas las librerías\n",
    "import pandas as pd\n",
    "import numpy as np\n",
    "import matplotlib.pyplot as plt\n",
    "import scipy.stats as st\n",
    "import math\n",
    "import seaborn as sns"
   ]
  },
  {
   "cell_type": "markdown",
   "metadata": {
    "id": "4ysWWC5i0q00"
   },
   "source": [
    "## Cargar datos"
   ]
  },
  {
   "cell_type": "code",
   "execution_count": 2,
   "metadata": {
    "id": "CCqPW7rS0q01"
   },
   "outputs": [],
   "source": [
    "# Se cargan los archivos de datos en diferentes DataFrames\n",
    "users = pd.read_csv('/datasets/megaline_users.csv')\n",
    "calls = pd.read_csv('/datasets/megaline_calls.csv')\n",
    "messages = pd.read_csv('/datasets/megaline_messages.csv')\n",
    "internet = pd.read_csv('/datasets/megaline_internet.csv')\n",
    "plans = pd.read_csv('/datasets/megaline_plans.csv')"
   ]
  },
  {
   "cell_type": "markdown",
   "metadata": {
    "id": "69qqoJ3r0q01"
   },
   "source": [
    "## Preparar los datos"
   ]
  },
  {
   "cell_type": "markdown",
   "metadata": {
    "id": "ohBhimvH0q01"
   },
   "source": [
    "### Tarifas"
   ]
  },
  {
   "cell_type": "code",
   "execution_count": 3,
   "metadata": {
    "id": "GptqP3Q40q02"
   },
   "outputs": [
    {
     "name": "stdout",
     "output_type": "stream",
     "text": [
      "<class 'pandas.core.frame.DataFrame'>\n",
      "RangeIndex: 2 entries, 0 to 1\n",
      "Data columns (total 8 columns):\n",
      " #   Column                 Non-Null Count  Dtype  \n",
      "---  ------                 --------------  -----  \n",
      " 0   messages_included      2 non-null      int64  \n",
      " 1   mb_per_month_included  2 non-null      int64  \n",
      " 2   minutes_included       2 non-null      int64  \n",
      " 3   usd_monthly_pay        2 non-null      int64  \n",
      " 4   usd_per_gb             2 non-null      int64  \n",
      " 5   usd_per_message        2 non-null      float64\n",
      " 6   usd_per_minute         2 non-null      float64\n",
      " 7   plan_name              2 non-null      object \n",
      "dtypes: float64(2), int64(5), object(1)\n",
      "memory usage: 256.0+ bytes\n"
     ]
    }
   ],
   "source": [
    "# Información general/resumida sobre el DF de las tarifas\n",
    "plans.info()"
   ]
  },
  {
   "cell_type": "code",
   "execution_count": 4,
   "metadata": {
    "id": "64xzjwL70q02"
   },
   "outputs": [
    {
     "data": {
      "text/html": [
       "<div>\n",
       "<style scoped>\n",
       "    .dataframe tbody tr th:only-of-type {\n",
       "        vertical-align: middle;\n",
       "    }\n",
       "\n",
       "    .dataframe tbody tr th {\n",
       "        vertical-align: top;\n",
       "    }\n",
       "\n",
       "    .dataframe thead th {\n",
       "        text-align: right;\n",
       "    }\n",
       "</style>\n",
       "<table border=\"1\" class=\"dataframe\">\n",
       "  <thead>\n",
       "    <tr style=\"text-align: right;\">\n",
       "      <th></th>\n",
       "      <th>messages_included</th>\n",
       "      <th>mb_per_month_included</th>\n",
       "      <th>minutes_included</th>\n",
       "      <th>usd_monthly_pay</th>\n",
       "      <th>usd_per_gb</th>\n",
       "      <th>usd_per_message</th>\n",
       "      <th>usd_per_minute</th>\n",
       "      <th>plan_name</th>\n",
       "    </tr>\n",
       "  </thead>\n",
       "  <tbody>\n",
       "    <tr>\n",
       "      <th>0</th>\n",
       "      <td>50</td>\n",
       "      <td>15360</td>\n",
       "      <td>500</td>\n",
       "      <td>20</td>\n",
       "      <td>10</td>\n",
       "      <td>0.03</td>\n",
       "      <td>0.03</td>\n",
       "      <td>surf</td>\n",
       "    </tr>\n",
       "    <tr>\n",
       "      <th>1</th>\n",
       "      <td>1000</td>\n",
       "      <td>30720</td>\n",
       "      <td>3000</td>\n",
       "      <td>70</td>\n",
       "      <td>7</td>\n",
       "      <td>0.01</td>\n",
       "      <td>0.01</td>\n",
       "      <td>ultimate</td>\n",
       "    </tr>\n",
       "  </tbody>\n",
       "</table>\n",
       "</div>"
      ],
      "text/plain": [
       "   messages_included  mb_per_month_included  minutes_included  \\\n",
       "0                 50                  15360               500   \n",
       "1               1000                  30720              3000   \n",
       "\n",
       "   usd_monthly_pay  usd_per_gb  usd_per_message  usd_per_minute plan_name  \n",
       "0               20          10             0.03            0.03      surf  \n",
       "1               70           7             0.01            0.01  ultimate  "
      ]
     },
     "metadata": {},
     "output_type": "display_data"
    }
   ],
   "source": [
    "# Muestra de los datos para las tarifas\n",
    "display(plans) # solo tiene 2 entradas así que imprimimos todo el DF"
   ]
  },
  {
   "cell_type": "markdown",
   "metadata": {
    "id": "mEc_3_hs0q02"
   },
   "source": [
    "Nos damos cuenta que los datos están correctamente leídos, los encabezados son correctos, así como el tipo de dato para cada columna.\n",
    "No hay valores NaN o ausentes."
   ]
  },
  {
   "cell_type": "markdown",
   "metadata": {
    "id": "R3C05i1l0q03"
   },
   "source": [
    "#### Corregir datos"
   ]
  },
  {
   "cell_type": "markdown",
   "metadata": {
    "id": "bIi8StZI0q03"
   },
   "source": [
    "No se encontraron problemas con los datos para este DF"
   ]
  },
  {
   "cell_type": "markdown",
   "metadata": {
    "id": "LJir7bml0q03"
   },
   "source": [
    "#### Enriquecer los datos"
   ]
  },
  {
   "cell_type": "markdown",
   "metadata": {
    "id": "eqADpCfg0q04"
   },
   "source": [
    "Este DF es meramente informativo y los datos son correctos con los planes de megaline."
   ]
  },
  {
   "cell_type": "markdown",
   "metadata": {
    "id": "1n2X6WXf0q04"
   },
   "source": [
    "### Usuarios/as"
   ]
  },
  {
   "cell_type": "code",
   "execution_count": 5,
   "metadata": {
    "id": "2NgjWFqx0q05"
   },
   "outputs": [
    {
     "name": "stdout",
     "output_type": "stream",
     "text": [
      "<class 'pandas.core.frame.DataFrame'>\n",
      "RangeIndex: 500 entries, 0 to 499\n",
      "Data columns (total 8 columns):\n",
      " #   Column      Non-Null Count  Dtype \n",
      "---  ------      --------------  ----- \n",
      " 0   user_id     500 non-null    int64 \n",
      " 1   first_name  500 non-null    object\n",
      " 2   last_name   500 non-null    object\n",
      " 3   age         500 non-null    int64 \n",
      " 4   city        500 non-null    object\n",
      " 5   reg_date    500 non-null    object\n",
      " 6   plan        500 non-null    object\n",
      " 7   churn_date  34 non-null     object\n",
      "dtypes: int64(2), object(6)\n",
      "memory usage: 31.4+ KB\n"
     ]
    }
   ],
   "source": [
    "# Información general/resumida sobre el DataFrame de usuarios\n",
    "users.info()"
   ]
  },
  {
   "cell_type": "code",
   "execution_count": 6,
   "metadata": {
    "id": "1IN1L9uh0q05"
   },
   "outputs": [
    {
     "data": {
      "text/html": [
       "<div>\n",
       "<style scoped>\n",
       "    .dataframe tbody tr th:only-of-type {\n",
       "        vertical-align: middle;\n",
       "    }\n",
       "\n",
       "    .dataframe tbody tr th {\n",
       "        vertical-align: top;\n",
       "    }\n",
       "\n",
       "    .dataframe thead th {\n",
       "        text-align: right;\n",
       "    }\n",
       "</style>\n",
       "<table border=\"1\" class=\"dataframe\">\n",
       "  <thead>\n",
       "    <tr style=\"text-align: right;\">\n",
       "      <th></th>\n",
       "      <th>user_id</th>\n",
       "      <th>first_name</th>\n",
       "      <th>last_name</th>\n",
       "      <th>age</th>\n",
       "      <th>city</th>\n",
       "      <th>reg_date</th>\n",
       "      <th>plan</th>\n",
       "      <th>churn_date</th>\n",
       "    </tr>\n",
       "  </thead>\n",
       "  <tbody>\n",
       "    <tr>\n",
       "      <th>259</th>\n",
       "      <td>1259</td>\n",
       "      <td>Etsuko</td>\n",
       "      <td>Perry</td>\n",
       "      <td>63</td>\n",
       "      <td>Philadelphia-Camden-Wilmington, PA-NJ-DE-MD MSA</td>\n",
       "      <td>2018-03-16</td>\n",
       "      <td>surf</td>\n",
       "      <td>NaN</td>\n",
       "    </tr>\n",
       "    <tr>\n",
       "      <th>25</th>\n",
       "      <td>1025</td>\n",
       "      <td>Jess</td>\n",
       "      <td>Wilkinson</td>\n",
       "      <td>64</td>\n",
       "      <td>Atlanta-Sandy Springs-Roswell, GA MSA</td>\n",
       "      <td>2018-10-28</td>\n",
       "      <td>ultimate</td>\n",
       "      <td>NaN</td>\n",
       "    </tr>\n",
       "    <tr>\n",
       "      <th>158</th>\n",
       "      <td>1158</td>\n",
       "      <td>Robin</td>\n",
       "      <td>Thornton</td>\n",
       "      <td>20</td>\n",
       "      <td>Virginia Beach-Norfolk-Newport News, VA-NC MSA</td>\n",
       "      <td>2018-11-30</td>\n",
       "      <td>ultimate</td>\n",
       "      <td>NaN</td>\n",
       "    </tr>\n",
       "    <tr>\n",
       "      <th>281</th>\n",
       "      <td>1281</td>\n",
       "      <td>Zack</td>\n",
       "      <td>Hardy</td>\n",
       "      <td>39</td>\n",
       "      <td>Charlotte-Concord-Gastonia, NC-SC MSA</td>\n",
       "      <td>2018-07-23</td>\n",
       "      <td>surf</td>\n",
       "      <td>2018-11-14</td>\n",
       "    </tr>\n",
       "    <tr>\n",
       "      <th>306</th>\n",
       "      <td>1306</td>\n",
       "      <td>Darron</td>\n",
       "      <td>Craig</td>\n",
       "      <td>19</td>\n",
       "      <td>Washington-Arlington-Alexandria, DC-VA-MD-WV MSA</td>\n",
       "      <td>2018-11-26</td>\n",
       "      <td>surf</td>\n",
       "      <td>NaN</td>\n",
       "    </tr>\n",
       "    <tr>\n",
       "      <th>130</th>\n",
       "      <td>1130</td>\n",
       "      <td>Clarence</td>\n",
       "      <td>Cunningham</td>\n",
       "      <td>27</td>\n",
       "      <td>Philadelphia-Camden-Wilmington, PA-NJ-DE-MD MSA</td>\n",
       "      <td>2018-05-17</td>\n",
       "      <td>surf</td>\n",
       "      <td>NaN</td>\n",
       "    </tr>\n",
       "    <tr>\n",
       "      <th>127</th>\n",
       "      <td>1127</td>\n",
       "      <td>Marchelle</td>\n",
       "      <td>Brock</td>\n",
       "      <td>28</td>\n",
       "      <td>New York-Newark-Jersey City, NY-NJ-PA MSA</td>\n",
       "      <td>2018-06-23</td>\n",
       "      <td>surf</td>\n",
       "      <td>NaN</td>\n",
       "    </tr>\n",
       "    <tr>\n",
       "      <th>272</th>\n",
       "      <td>1272</td>\n",
       "      <td>Ernest</td>\n",
       "      <td>Mercado</td>\n",
       "      <td>23</td>\n",
       "      <td>Minneapolis-St. Paul-Bloomington, MN-WI MSA</td>\n",
       "      <td>2018-08-04</td>\n",
       "      <td>surf</td>\n",
       "      <td>NaN</td>\n",
       "    </tr>\n",
       "    <tr>\n",
       "      <th>355</th>\n",
       "      <td>1355</td>\n",
       "      <td>Digna</td>\n",
       "      <td>Tyson</td>\n",
       "      <td>57</td>\n",
       "      <td>Los Angeles-Long Beach-Anaheim, CA MSA</td>\n",
       "      <td>2018-10-07</td>\n",
       "      <td>surf</td>\n",
       "      <td>NaN</td>\n",
       "    </tr>\n",
       "    <tr>\n",
       "      <th>301</th>\n",
       "      <td>1301</td>\n",
       "      <td>Tomas</td>\n",
       "      <td>Horton</td>\n",
       "      <td>64</td>\n",
       "      <td>Chicago-Naperville-Elgin, IL-IN-WI MSA</td>\n",
       "      <td>2018-01-04</td>\n",
       "      <td>ultimate</td>\n",
       "      <td>NaN</td>\n",
       "    </tr>\n",
       "    <tr>\n",
       "      <th>38</th>\n",
       "      <td>1038</td>\n",
       "      <td>Olympia</td>\n",
       "      <td>Velazquez</td>\n",
       "      <td>32</td>\n",
       "      <td>Nashville-Davidson–Murfreesboro–Franklin, TN MSA</td>\n",
       "      <td>2018-06-25</td>\n",
       "      <td>ultimate</td>\n",
       "      <td>NaN</td>\n",
       "    </tr>\n",
       "    <tr>\n",
       "      <th>212</th>\n",
       "      <td>1212</td>\n",
       "      <td>Alfredo</td>\n",
       "      <td>Pruitt</td>\n",
       "      <td>36</td>\n",
       "      <td>Austin-Round Rock-Georgetown, TX MSA</td>\n",
       "      <td>2018-07-27</td>\n",
       "      <td>surf</td>\n",
       "      <td>NaN</td>\n",
       "    </tr>\n",
       "    <tr>\n",
       "      <th>384</th>\n",
       "      <td>1384</td>\n",
       "      <td>Dominique</td>\n",
       "      <td>Good</td>\n",
       "      <td>36</td>\n",
       "      <td>Philadelphia-Camden-Wilmington, PA-NJ-DE-MD MSA</td>\n",
       "      <td>2018-06-09</td>\n",
       "      <td>ultimate</td>\n",
       "      <td>NaN</td>\n",
       "    </tr>\n",
       "    <tr>\n",
       "      <th>237</th>\n",
       "      <td>1237</td>\n",
       "      <td>Leighann</td>\n",
       "      <td>Wheeler</td>\n",
       "      <td>50</td>\n",
       "      <td>New York-Newark-Jersey City, NY-NJ-PA MSA</td>\n",
       "      <td>2018-08-26</td>\n",
       "      <td>ultimate</td>\n",
       "      <td>NaN</td>\n",
       "    </tr>\n",
       "    <tr>\n",
       "      <th>239</th>\n",
       "      <td>1239</td>\n",
       "      <td>Quentin</td>\n",
       "      <td>Hancock</td>\n",
       "      <td>24</td>\n",
       "      <td>Fresno, CA MSA</td>\n",
       "      <td>2018-08-11</td>\n",
       "      <td>surf</td>\n",
       "      <td>NaN</td>\n",
       "    </tr>\n",
       "  </tbody>\n",
       "</table>\n",
       "</div>"
      ],
      "text/plain": [
       "     user_id first_name   last_name  age  \\\n",
       "259     1259     Etsuko       Perry   63   \n",
       "25      1025       Jess   Wilkinson   64   \n",
       "158     1158      Robin    Thornton   20   \n",
       "281     1281       Zack       Hardy   39   \n",
       "306     1306     Darron       Craig   19   \n",
       "130     1130   Clarence  Cunningham   27   \n",
       "127     1127  Marchelle       Brock   28   \n",
       "272     1272     Ernest     Mercado   23   \n",
       "355     1355      Digna       Tyson   57   \n",
       "301     1301      Tomas      Horton   64   \n",
       "38      1038    Olympia   Velazquez   32   \n",
       "212     1212    Alfredo      Pruitt   36   \n",
       "384     1384  Dominique        Good   36   \n",
       "237     1237   Leighann     Wheeler   50   \n",
       "239     1239    Quentin     Hancock   24   \n",
       "\n",
       "                                                 city    reg_date      plan  \\\n",
       "259   Philadelphia-Camden-Wilmington, PA-NJ-DE-MD MSA  2018-03-16      surf   \n",
       "25              Atlanta-Sandy Springs-Roswell, GA MSA  2018-10-28  ultimate   \n",
       "158    Virginia Beach-Norfolk-Newport News, VA-NC MSA  2018-11-30  ultimate   \n",
       "281             Charlotte-Concord-Gastonia, NC-SC MSA  2018-07-23      surf   \n",
       "306  Washington-Arlington-Alexandria, DC-VA-MD-WV MSA  2018-11-26      surf   \n",
       "130   Philadelphia-Camden-Wilmington, PA-NJ-DE-MD MSA  2018-05-17      surf   \n",
       "127         New York-Newark-Jersey City, NY-NJ-PA MSA  2018-06-23      surf   \n",
       "272       Minneapolis-St. Paul-Bloomington, MN-WI MSA  2018-08-04      surf   \n",
       "355            Los Angeles-Long Beach-Anaheim, CA MSA  2018-10-07      surf   \n",
       "301            Chicago-Naperville-Elgin, IL-IN-WI MSA  2018-01-04  ultimate   \n",
       "38   Nashville-Davidson–Murfreesboro–Franklin, TN MSA  2018-06-25  ultimate   \n",
       "212              Austin-Round Rock-Georgetown, TX MSA  2018-07-27      surf   \n",
       "384   Philadelphia-Camden-Wilmington, PA-NJ-DE-MD MSA  2018-06-09  ultimate   \n",
       "237         New York-Newark-Jersey City, NY-NJ-PA MSA  2018-08-26  ultimate   \n",
       "239                                    Fresno, CA MSA  2018-08-11      surf   \n",
       "\n",
       "     churn_date  \n",
       "259         NaN  \n",
       "25          NaN  \n",
       "158         NaN  \n",
       "281  2018-11-14  \n",
       "306         NaN  \n",
       "130         NaN  \n",
       "127         NaN  \n",
       "272         NaN  \n",
       "355         NaN  \n",
       "301         NaN  \n",
       "38          NaN  \n",
       "212         NaN  \n",
       "384         NaN  \n",
       "237         NaN  \n",
       "239         NaN  "
      ]
     },
     "metadata": {},
     "output_type": "display_data"
    }
   ],
   "source": [
    "# Imprime una muestra de datos para usuarios\n",
    "display(users.sample(15, random_state=5895))"
   ]
  },
  {
   "cell_type": "markdown",
   "metadata": {
    "id": "dCZoUq4f0q06"
   },
   "source": [
    "Se aprecia que los datos fueron leidos correctamente, las columnas son correctas, así como sus tipos de dato, pero:\n",
    "\n",
    "- Falta buscar por valores duplicados en el DF y en la columna 'user_id'\n",
    "- Las columnas 'reg_date' y 'churn_date' se representarían mejor con un tipo de dato datetime\n",
    "- Hay valores ausentes en churn_date, para lo cual debemos investigar la naturaleza de los datos de esta columna."
   ]
  },
  {
   "cell_type": "markdown",
   "metadata": {
    "id": "BX5FQh_I0q06"
   },
   "source": [
    "#### Corregir los datos"
   ]
  },
  {
   "cell_type": "code",
   "execution_count": 7,
   "metadata": {
    "id": "yUqX-K0C0q07"
   },
   "outputs": [
    {
     "name": "stdout",
     "output_type": "stream",
     "text": [
      "Duplicados user_id:  0\n",
      "Duplicados totales: 0\n",
      "user_id                int64\n",
      "first_name            object\n",
      "last_name             object\n",
      "age                    int64\n",
      "city                  object\n",
      "reg_date      datetime64[ns]\n",
      "plan                  object\n",
      "churn_date    datetime64[ns]\n",
      "dtype: object\n"
     ]
    },
    {
     "data": {
      "text/html": [
       "<div>\n",
       "<style scoped>\n",
       "    .dataframe tbody tr th:only-of-type {\n",
       "        vertical-align: middle;\n",
       "    }\n",
       "\n",
       "    .dataframe tbody tr th {\n",
       "        vertical-align: top;\n",
       "    }\n",
       "\n",
       "    .dataframe thead th {\n",
       "        text-align: right;\n",
       "    }\n",
       "</style>\n",
       "<table border=\"1\" class=\"dataframe\">\n",
       "  <thead>\n",
       "    <tr style=\"text-align: right;\">\n",
       "      <th></th>\n",
       "      <th>user_id</th>\n",
       "      <th>first_name</th>\n",
       "      <th>last_name</th>\n",
       "      <th>age</th>\n",
       "      <th>city</th>\n",
       "      <th>reg_date</th>\n",
       "      <th>plan</th>\n",
       "      <th>churn_date</th>\n",
       "    </tr>\n",
       "  </thead>\n",
       "  <tbody>\n",
       "    <tr>\n",
       "      <th>259</th>\n",
       "      <td>1259</td>\n",
       "      <td>Etsuko</td>\n",
       "      <td>Perry</td>\n",
       "      <td>63</td>\n",
       "      <td>Philadelphia-Camden-Wilmington, PA-NJ-DE-MD MSA</td>\n",
       "      <td>2018-03-16</td>\n",
       "      <td>surf</td>\n",
       "      <td>NaT</td>\n",
       "    </tr>\n",
       "    <tr>\n",
       "      <th>25</th>\n",
       "      <td>1025</td>\n",
       "      <td>Jess</td>\n",
       "      <td>Wilkinson</td>\n",
       "      <td>64</td>\n",
       "      <td>Atlanta-Sandy Springs-Roswell, GA MSA</td>\n",
       "      <td>2018-10-28</td>\n",
       "      <td>ultimate</td>\n",
       "      <td>NaT</td>\n",
       "    </tr>\n",
       "    <tr>\n",
       "      <th>158</th>\n",
       "      <td>1158</td>\n",
       "      <td>Robin</td>\n",
       "      <td>Thornton</td>\n",
       "      <td>20</td>\n",
       "      <td>Virginia Beach-Norfolk-Newport News, VA-NC MSA</td>\n",
       "      <td>2018-11-30</td>\n",
       "      <td>ultimate</td>\n",
       "      <td>NaT</td>\n",
       "    </tr>\n",
       "    <tr>\n",
       "      <th>281</th>\n",
       "      <td>1281</td>\n",
       "      <td>Zack</td>\n",
       "      <td>Hardy</td>\n",
       "      <td>39</td>\n",
       "      <td>Charlotte-Concord-Gastonia, NC-SC MSA</td>\n",
       "      <td>2018-07-23</td>\n",
       "      <td>surf</td>\n",
       "      <td>2018-11-14</td>\n",
       "    </tr>\n",
       "    <tr>\n",
       "      <th>306</th>\n",
       "      <td>1306</td>\n",
       "      <td>Darron</td>\n",
       "      <td>Craig</td>\n",
       "      <td>19</td>\n",
       "      <td>Washington-Arlington-Alexandria, DC-VA-MD-WV MSA</td>\n",
       "      <td>2018-11-26</td>\n",
       "      <td>surf</td>\n",
       "      <td>NaT</td>\n",
       "    </tr>\n",
       "  </tbody>\n",
       "</table>\n",
       "</div>"
      ],
      "text/plain": [
       "     user_id first_name  last_name  age  \\\n",
       "259     1259     Etsuko      Perry   63   \n",
       "25      1025       Jess  Wilkinson   64   \n",
       "158     1158      Robin   Thornton   20   \n",
       "281     1281       Zack      Hardy   39   \n",
       "306     1306     Darron      Craig   19   \n",
       "\n",
       "                                                 city   reg_date      plan  \\\n",
       "259   Philadelphia-Camden-Wilmington, PA-NJ-DE-MD MSA 2018-03-16      surf   \n",
       "25              Atlanta-Sandy Springs-Roswell, GA MSA 2018-10-28  ultimate   \n",
       "158    Virginia Beach-Norfolk-Newport News, VA-NC MSA 2018-11-30  ultimate   \n",
       "281             Charlotte-Concord-Gastonia, NC-SC MSA 2018-07-23      surf   \n",
       "306  Washington-Arlington-Alexandria, DC-VA-MD-WV MSA 2018-11-26      surf   \n",
       "\n",
       "    churn_date  \n",
       "259        NaT  \n",
       "25         NaT  \n",
       "158        NaT  \n",
       "281 2018-11-14  \n",
       "306        NaT  "
      ]
     },
     "metadata": {},
     "output_type": "display_data"
    }
   ],
   "source": [
    "# Buscamos valores duplicados en el DF:\n",
    "print('Duplicados user_id: ', users['user_id'].duplicated().sum()) \n",
    "print('Duplicados totales:', users.duplicated().sum())\n",
    "\n",
    "# Cambiamos 'reg_date' a datetime:\n",
    "users['reg_date'] = pd.to_datetime(users['reg_date'], format='%Y-%m-%d')\n",
    "# cambiamos 'churn_date' a datetime:\n",
    "users['churn_date'] = pd.to_datetime(users['churn_date'], format='%Y-%m-%d', errors='coerce')\n",
    "    # NOTA: Dado que ahora 'churn_date' es tipo datetime, no cambiamos los NaT, para posteriormente poder acceder a \n",
    "    # los atributos como día, o mes de aquellos no son NaT\n",
    "\n",
    "# Visualizamos para verificar cambios\n",
    "print(users.dtypes) # ahora tenemos datos tipo datetime\n",
    "display(users.sample(5, random_state=5895))"
   ]
  },
  {
   "cell_type": "markdown",
   "metadata": {
    "id": "ycwuARJp0q07"
   },
   "source": [
    "#### Enriquecer los datos"
   ]
  },
  {
   "cell_type": "markdown",
   "metadata": {
    "id": "96NIh4CJ0q08"
   },
   "source": [
    "Mas adelante, compararemos el ingreso promedio de los usuarios del área NY-NJ con respecto al ingreso de los usuarios de otras regiones, por lo que añadiremos a la tabla users la columna 'ny_nj', la cual contendrá True si el usuario pertenece a esa región y False si no."
   ]
  },
  {
   "cell_type": "code",
   "execution_count": 8,
   "metadata": {},
   "outputs": [
    {
     "data": {
      "text/html": [
       "<div>\n",
       "<style scoped>\n",
       "    .dataframe tbody tr th:only-of-type {\n",
       "        vertical-align: middle;\n",
       "    }\n",
       "\n",
       "    .dataframe tbody tr th {\n",
       "        vertical-align: top;\n",
       "    }\n",
       "\n",
       "    .dataframe thead th {\n",
       "        text-align: right;\n",
       "    }\n",
       "</style>\n",
       "<table border=\"1\" class=\"dataframe\">\n",
       "  <thead>\n",
       "    <tr style=\"text-align: right;\">\n",
       "      <th></th>\n",
       "      <th>user_id</th>\n",
       "      <th>first_name</th>\n",
       "      <th>last_name</th>\n",
       "      <th>age</th>\n",
       "      <th>city</th>\n",
       "      <th>reg_date</th>\n",
       "      <th>plan</th>\n",
       "      <th>churn_date</th>\n",
       "      <th>ny_nj</th>\n",
       "    </tr>\n",
       "  </thead>\n",
       "  <tbody>\n",
       "    <tr>\n",
       "      <th>0</th>\n",
       "      <td>1000</td>\n",
       "      <td>Anamaria</td>\n",
       "      <td>Bauer</td>\n",
       "      <td>45</td>\n",
       "      <td>Atlanta-Sandy Springs-Roswell, GA MSA</td>\n",
       "      <td>2018-12-24</td>\n",
       "      <td>ultimate</td>\n",
       "      <td>NaT</td>\n",
       "      <td>False</td>\n",
       "    </tr>\n",
       "    <tr>\n",
       "      <th>1</th>\n",
       "      <td>1001</td>\n",
       "      <td>Mickey</td>\n",
       "      <td>Wilkerson</td>\n",
       "      <td>28</td>\n",
       "      <td>Seattle-Tacoma-Bellevue, WA MSA</td>\n",
       "      <td>2018-08-13</td>\n",
       "      <td>surf</td>\n",
       "      <td>NaT</td>\n",
       "      <td>False</td>\n",
       "    </tr>\n",
       "    <tr>\n",
       "      <th>2</th>\n",
       "      <td>1002</td>\n",
       "      <td>Carlee</td>\n",
       "      <td>Hoffman</td>\n",
       "      <td>36</td>\n",
       "      <td>Las Vegas-Henderson-Paradise, NV MSA</td>\n",
       "      <td>2018-10-21</td>\n",
       "      <td>surf</td>\n",
       "      <td>NaT</td>\n",
       "      <td>False</td>\n",
       "    </tr>\n",
       "    <tr>\n",
       "      <th>3</th>\n",
       "      <td>1003</td>\n",
       "      <td>Reynaldo</td>\n",
       "      <td>Jenkins</td>\n",
       "      <td>52</td>\n",
       "      <td>Tulsa, OK MSA</td>\n",
       "      <td>2018-01-28</td>\n",
       "      <td>surf</td>\n",
       "      <td>NaT</td>\n",
       "      <td>False</td>\n",
       "    </tr>\n",
       "    <tr>\n",
       "      <th>4</th>\n",
       "      <td>1004</td>\n",
       "      <td>Leonila</td>\n",
       "      <td>Thompson</td>\n",
       "      <td>40</td>\n",
       "      <td>Seattle-Tacoma-Bellevue, WA MSA</td>\n",
       "      <td>2018-05-23</td>\n",
       "      <td>surf</td>\n",
       "      <td>NaT</td>\n",
       "      <td>False</td>\n",
       "    </tr>\n",
       "  </tbody>\n",
       "</table>\n",
       "</div>"
      ],
      "text/plain": [
       "   user_id first_name  last_name  age                                   city  \\\n",
       "0     1000   Anamaria      Bauer   45  Atlanta-Sandy Springs-Roswell, GA MSA   \n",
       "1     1001     Mickey  Wilkerson   28        Seattle-Tacoma-Bellevue, WA MSA   \n",
       "2     1002     Carlee    Hoffman   36   Las Vegas-Henderson-Paradise, NV MSA   \n",
       "3     1003   Reynaldo    Jenkins   52                          Tulsa, OK MSA   \n",
       "4     1004    Leonila   Thompson   40        Seattle-Tacoma-Bellevue, WA MSA   \n",
       "\n",
       "    reg_date      plan churn_date  ny_nj  \n",
       "0 2018-12-24  ultimate        NaT  False  \n",
       "1 2018-08-13      surf        NaT  False  \n",
       "2 2018-10-21      surf        NaT  False  \n",
       "3 2018-01-28      surf        NaT  False  \n",
       "4 2018-05-23      surf        NaT  False  "
      ]
     },
     "metadata": {},
     "output_type": "display_data"
    }
   ],
   "source": [
    "# Creamos la nueva columna con los booleanos requeridos:\n",
    "users['ny_nj'] = users['city'].str.contains('NY-NJ')\n",
    "display(users.head()) # Visualizamos la nueva columna en el DF"
   ]
  },
  {
   "cell_type": "markdown",
   "metadata": {
    "id": "o7MeKCid0q08"
   },
   "source": [
    "### Llamadas"
   ]
  },
  {
   "cell_type": "code",
   "execution_count": 9,
   "metadata": {
    "id": "6dDlnoDm0q08"
   },
   "outputs": [
    {
     "name": "stdout",
     "output_type": "stream",
     "text": [
      "<class 'pandas.core.frame.DataFrame'>\n",
      "RangeIndex: 137735 entries, 0 to 137734\n",
      "Data columns (total 4 columns):\n",
      " #   Column     Non-Null Count   Dtype  \n",
      "---  ------     --------------   -----  \n",
      " 0   id         137735 non-null  object \n",
      " 1   user_id    137735 non-null  int64  \n",
      " 2   call_date  137735 non-null  object \n",
      " 3   duration   137735 non-null  float64\n",
      "dtypes: float64(1), int64(1), object(2)\n",
      "memory usage: 4.2+ MB\n"
     ]
    }
   ],
   "source": [
    "# Información general/resumida sobre el DataFrame de las llamadas\n",
    "calls.info()"
   ]
  },
  {
   "cell_type": "code",
   "execution_count": 10,
   "metadata": {
    "id": "kuh1vlNB0q09"
   },
   "outputs": [
    {
     "data": {
      "text/html": [
       "<div>\n",
       "<style scoped>\n",
       "    .dataframe tbody tr th:only-of-type {\n",
       "        vertical-align: middle;\n",
       "    }\n",
       "\n",
       "    .dataframe tbody tr th {\n",
       "        vertical-align: top;\n",
       "    }\n",
       "\n",
       "    .dataframe thead th {\n",
       "        text-align: right;\n",
       "    }\n",
       "</style>\n",
       "<table border=\"1\" class=\"dataframe\">\n",
       "  <thead>\n",
       "    <tr style=\"text-align: right;\">\n",
       "      <th></th>\n",
       "      <th>id</th>\n",
       "      <th>user_id</th>\n",
       "      <th>call_date</th>\n",
       "      <th>duration</th>\n",
       "    </tr>\n",
       "  </thead>\n",
       "  <tbody>\n",
       "    <tr>\n",
       "      <th>25816</th>\n",
       "      <td>1099_136</td>\n",
       "      <td>1099</td>\n",
       "      <td>2018-07-09</td>\n",
       "      <td>2.72</td>\n",
       "    </tr>\n",
       "    <tr>\n",
       "      <th>39355</th>\n",
       "      <td>1147_80</td>\n",
       "      <td>1147</td>\n",
       "      <td>2018-07-22</td>\n",
       "      <td>0.00</td>\n",
       "    </tr>\n",
       "    <tr>\n",
       "      <th>31758</th>\n",
       "      <td>1120_100</td>\n",
       "      <td>1120</td>\n",
       "      <td>2018-09-20</td>\n",
       "      <td>6.21</td>\n",
       "    </tr>\n",
       "    <tr>\n",
       "      <th>61543</th>\n",
       "      <td>1222_190</td>\n",
       "      <td>1222</td>\n",
       "      <td>2018-07-11</td>\n",
       "      <td>7.65</td>\n",
       "    </tr>\n",
       "    <tr>\n",
       "      <th>27995</th>\n",
       "      <td>1106_335</td>\n",
       "      <td>1106</td>\n",
       "      <td>2018-09-07</td>\n",
       "      <td>0.00</td>\n",
       "    </tr>\n",
       "  </tbody>\n",
       "</table>\n",
       "</div>"
      ],
      "text/plain": [
       "             id  user_id   call_date  duration\n",
       "25816  1099_136     1099  2018-07-09      2.72\n",
       "39355   1147_80     1147  2018-07-22      0.00\n",
       "31758  1120_100     1120  2018-09-20      6.21\n",
       "61543  1222_190     1222  2018-07-11      7.65\n",
       "27995  1106_335     1106  2018-09-07      0.00"
      ]
     },
     "metadata": {},
     "output_type": "display_data"
    }
   ],
   "source": [
    "# Muestra de datos para las llamadas\n",
    "display(calls.sample(5, random_state=78521))"
   ]
  },
  {
   "cell_type": "markdown",
   "metadata": {
    "id": "DOAxYJSx0q09"
   },
   "source": [
    "No se ven datos ausentes en ninguna columna. Sin embargo:\n",
    "\n",
    "- Falta buscar datos duplicados.\n",
    "- La columna 'id' se representaría mejor por un tipo de dato int64, para ser congruente con los id's de DF's anteriores.\n",
    "- En la descripción de las tarifas del negocio, se nos explica que para llamadas, Megaline redondea los segundos a  minutos, por lo tanto, la columna 'duration' debe estar redondeada hacia arriba y ser un tipo de dato entero."
   ]
  },
  {
   "cell_type": "markdown",
   "metadata": {
    "id": "S7hzxmbX0q0-"
   },
   "source": [
    "#### Corregir los datos"
   ]
  },
  {
   "cell_type": "code",
   "execution_count": 11,
   "metadata": {
    "id": "S2r8xA4f0q0-"
   },
   "outputs": [
    {
     "name": "stdout",
     "output_type": "stream",
     "text": [
      "Duplicados totales:  0\n",
      "Duplicados en \"id\": 0\n"
     ]
    },
    {
     "data": {
      "text/plain": [
       "id                    int64\n",
       "user_id               int64\n",
       "call_date            object\n",
       "duration            float64\n",
       "rounded_duration      int64\n",
       "dtype: object"
      ]
     },
     "metadata": {},
     "output_type": "display_data"
    },
    {
     "data": {
      "text/html": [
       "<div>\n",
       "<style scoped>\n",
       "    .dataframe tbody tr th:only-of-type {\n",
       "        vertical-align: middle;\n",
       "    }\n",
       "\n",
       "    .dataframe tbody tr th {\n",
       "        vertical-align: top;\n",
       "    }\n",
       "\n",
       "    .dataframe thead th {\n",
       "        text-align: right;\n",
       "    }\n",
       "</style>\n",
       "<table border=\"1\" class=\"dataframe\">\n",
       "  <thead>\n",
       "    <tr style=\"text-align: right;\">\n",
       "      <th></th>\n",
       "      <th>id</th>\n",
       "      <th>user_id</th>\n",
       "      <th>call_date</th>\n",
       "      <th>duration</th>\n",
       "      <th>rounded_duration</th>\n",
       "    </tr>\n",
       "  </thead>\n",
       "  <tbody>\n",
       "    <tr>\n",
       "      <th>25816</th>\n",
       "      <td>1099136</td>\n",
       "      <td>1099</td>\n",
       "      <td>2018-07-09</td>\n",
       "      <td>2.72</td>\n",
       "      <td>3</td>\n",
       "    </tr>\n",
       "    <tr>\n",
       "      <th>39355</th>\n",
       "      <td>114780</td>\n",
       "      <td>1147</td>\n",
       "      <td>2018-07-22</td>\n",
       "      <td>0.00</td>\n",
       "      <td>0</td>\n",
       "    </tr>\n",
       "    <tr>\n",
       "      <th>31758</th>\n",
       "      <td>1120100</td>\n",
       "      <td>1120</td>\n",
       "      <td>2018-09-20</td>\n",
       "      <td>6.21</td>\n",
       "      <td>7</td>\n",
       "    </tr>\n",
       "    <tr>\n",
       "      <th>61543</th>\n",
       "      <td>1222190</td>\n",
       "      <td>1222</td>\n",
       "      <td>2018-07-11</td>\n",
       "      <td>7.65</td>\n",
       "      <td>8</td>\n",
       "    </tr>\n",
       "    <tr>\n",
       "      <th>27995</th>\n",
       "      <td>1106335</td>\n",
       "      <td>1106</td>\n",
       "      <td>2018-09-07</td>\n",
       "      <td>0.00</td>\n",
       "      <td>0</td>\n",
       "    </tr>\n",
       "  </tbody>\n",
       "</table>\n",
       "</div>"
      ],
      "text/plain": [
       "            id  user_id   call_date  duration  rounded_duration\n",
       "25816  1099136     1099  2018-07-09      2.72                 3\n",
       "39355   114780     1147  2018-07-22      0.00                 0\n",
       "31758  1120100     1120  2018-09-20      6.21                 7\n",
       "61543  1222190     1222  2018-07-11      7.65                 8\n",
       "27995  1106335     1106  2018-09-07      0.00                 0"
      ]
     },
     "metadata": {},
     "output_type": "display_data"
    }
   ],
   "source": [
    "## Buscamos por datos duplicados en el DF:\n",
    "print('Duplicados totales: ',calls.duplicated().sum()) # Duplicados totales: 0\n",
    "print('Duplicados en \"id\":', calls['id'].duplicated().sum()) # Duplicados en 'id': 0\n",
    "\n",
    "# Cambiamos el tipo de dato de la columna 'id':\n",
    "try:\n",
    "    calls['id'] = calls['id'].str.replace('_','')\n",
    "    calls['id'] = pd.to_numeric(calls['id'])\n",
    "except: \n",
    "    print('La columna id ya es int64')\n",
    "# Redondeamos la columna duration hacia el valor inmediato superior y convertimos la columna de float a tipo entero:\n",
    "calls['rounded_duration'] = calls['duration'].apply(math.ceil).astype('int64')\n",
    "\n",
    "# imprimimos de nuevo para verificar cambios\n",
    "display(calls.dtypes) \n",
    "display(calls.sample(5, random_state=78521))"
   ]
  },
  {
   "cell_type": "markdown",
   "metadata": {
    "id": "KrMgTrlG0q0_"
   },
   "source": [
    "#### Enriquecer los datos"
   ]
  },
  {
   "cell_type": "code",
   "execution_count": 12,
   "metadata": {
    "id": "iZ1avpA_0q0_"
   },
   "outputs": [
    {
     "name": "stdout",
     "output_type": "stream",
     "text": [
      "datetime64[ns]\n"
     ]
    },
    {
     "data": {
      "text/html": [
       "<div>\n",
       "<style scoped>\n",
       "    .dataframe tbody tr th:only-of-type {\n",
       "        vertical-align: middle;\n",
       "    }\n",
       "\n",
       "    .dataframe tbody tr th {\n",
       "        vertical-align: top;\n",
       "    }\n",
       "\n",
       "    .dataframe thead th {\n",
       "        text-align: right;\n",
       "    }\n",
       "</style>\n",
       "<table border=\"1\" class=\"dataframe\">\n",
       "  <thead>\n",
       "    <tr style=\"text-align: right;\">\n",
       "      <th></th>\n",
       "      <th>id</th>\n",
       "      <th>user_id</th>\n",
       "      <th>call_date</th>\n",
       "      <th>duration</th>\n",
       "      <th>rounded_duration</th>\n",
       "      <th>month</th>\n",
       "    </tr>\n",
       "  </thead>\n",
       "  <tbody>\n",
       "    <tr>\n",
       "      <th>25816</th>\n",
       "      <td>1099136</td>\n",
       "      <td>1099</td>\n",
       "      <td>2018-07-09</td>\n",
       "      <td>2.72</td>\n",
       "      <td>3</td>\n",
       "      <td>7</td>\n",
       "    </tr>\n",
       "    <tr>\n",
       "      <th>39355</th>\n",
       "      <td>114780</td>\n",
       "      <td>1147</td>\n",
       "      <td>2018-07-22</td>\n",
       "      <td>0.00</td>\n",
       "      <td>0</td>\n",
       "      <td>7</td>\n",
       "    </tr>\n",
       "    <tr>\n",
       "      <th>31758</th>\n",
       "      <td>1120100</td>\n",
       "      <td>1120</td>\n",
       "      <td>2018-09-20</td>\n",
       "      <td>6.21</td>\n",
       "      <td>7</td>\n",
       "      <td>9</td>\n",
       "    </tr>\n",
       "    <tr>\n",
       "      <th>61543</th>\n",
       "      <td>1222190</td>\n",
       "      <td>1222</td>\n",
       "      <td>2018-07-11</td>\n",
       "      <td>7.65</td>\n",
       "      <td>8</td>\n",
       "      <td>7</td>\n",
       "    </tr>\n",
       "    <tr>\n",
       "      <th>27995</th>\n",
       "      <td>1106335</td>\n",
       "      <td>1106</td>\n",
       "      <td>2018-09-07</td>\n",
       "      <td>0.00</td>\n",
       "      <td>0</td>\n",
       "      <td>9</td>\n",
       "    </tr>\n",
       "  </tbody>\n",
       "</table>\n",
       "</div>"
      ],
      "text/plain": [
       "            id  user_id  call_date  duration  rounded_duration  month\n",
       "25816  1099136     1099 2018-07-09      2.72                 3      7\n",
       "39355   114780     1147 2018-07-22      0.00                 0      7\n",
       "31758  1120100     1120 2018-09-20      6.21                 7      9\n",
       "61543  1222190     1222 2018-07-11      7.65                 8      7\n",
       "27995  1106335     1106 2018-09-07      0.00                 0      9"
      ]
     },
     "metadata": {},
     "output_type": "display_data"
    }
   ],
   "source": [
    "## Vemos que a la columna call_date podrían representarse mejor por el tipo de dato datetime:\n",
    "calls['call_date'] = pd.to_datetime(calls['call_date'], format='%Y-%m-%d')\n",
    "print(calls['call_date'].dtype) # Comprobamos que ahora el tipo de dato es datetime\n",
    "\n",
    "# Creamos una columna llamada month donde indique el mes en el que se realizó la llamada:\n",
    "calls['month'] = calls['call_date'].dt.month\n",
    "\n",
    "# Visualizamos la versión final de la tabla calls:                        \n",
    "display(calls.sample(5, random_state=78521))"
   ]
  },
  {
   "cell_type": "markdown",
   "metadata": {
    "id": "mOUZSi180q0_"
   },
   "source": [
    "### Mensajes"
   ]
  },
  {
   "cell_type": "code",
   "execution_count": 13,
   "metadata": {
    "id": "R-bYJpdV0q1A"
   },
   "outputs": [
    {
     "name": "stdout",
     "output_type": "stream",
     "text": [
      "<class 'pandas.core.frame.DataFrame'>\n",
      "RangeIndex: 76051 entries, 0 to 76050\n",
      "Data columns (total 3 columns):\n",
      " #   Column        Non-Null Count  Dtype \n",
      "---  ------        --------------  ----- \n",
      " 0   id            76051 non-null  object\n",
      " 1   user_id       76051 non-null  int64 \n",
      " 2   message_date  76051 non-null  object\n",
      "dtypes: int64(1), object(2)\n",
      "memory usage: 1.7+ MB\n"
     ]
    }
   ],
   "source": [
    "# Información general/resumida sobre el DataFrame de los mensajes\n",
    "messages.info()"
   ]
  },
  {
   "cell_type": "code",
   "execution_count": 14,
   "metadata": {
    "id": "mCEl2iGE0q1A",
    "scrolled": false
   },
   "outputs": [
    {
     "data": {
      "text/html": [
       "<div>\n",
       "<style scoped>\n",
       "    .dataframe tbody tr th:only-of-type {\n",
       "        vertical-align: middle;\n",
       "    }\n",
       "\n",
       "    .dataframe tbody tr th {\n",
       "        vertical-align: top;\n",
       "    }\n",
       "\n",
       "    .dataframe thead th {\n",
       "        text-align: right;\n",
       "    }\n",
       "</style>\n",
       "<table border=\"1\" class=\"dataframe\">\n",
       "  <thead>\n",
       "    <tr style=\"text-align: right;\">\n",
       "      <th></th>\n",
       "      <th>id</th>\n",
       "      <th>user_id</th>\n",
       "      <th>message_date</th>\n",
       "    </tr>\n",
       "  </thead>\n",
       "  <tbody>\n",
       "    <tr>\n",
       "      <th>23864</th>\n",
       "      <td>1144_353</td>\n",
       "      <td>1144</td>\n",
       "      <td>2018-12-05</td>\n",
       "    </tr>\n",
       "    <tr>\n",
       "      <th>49555</th>\n",
       "      <td>1328_513</td>\n",
       "      <td>1328</td>\n",
       "      <td>2018-08-28</td>\n",
       "    </tr>\n",
       "    <tr>\n",
       "      <th>57819</th>\n",
       "      <td>1364_140</td>\n",
       "      <td>1364</td>\n",
       "      <td>2018-11-02</td>\n",
       "    </tr>\n",
       "    <tr>\n",
       "      <th>5551</th>\n",
       "      <td>1052_308</td>\n",
       "      <td>1052</td>\n",
       "      <td>2018-12-05</td>\n",
       "    </tr>\n",
       "    <tr>\n",
       "      <th>11996</th>\n",
       "      <td>1079_395</td>\n",
       "      <td>1079</td>\n",
       "      <td>2018-12-14</td>\n",
       "    </tr>\n",
       "  </tbody>\n",
       "</table>\n",
       "</div>"
      ],
      "text/plain": [
       "             id  user_id message_date\n",
       "23864  1144_353     1144   2018-12-05\n",
       "49555  1328_513     1328   2018-08-28\n",
       "57819  1364_140     1364   2018-11-02\n",
       "5551   1052_308     1052   2018-12-05\n",
       "11996  1079_395     1079   2018-12-14"
      ]
     },
     "metadata": {},
     "output_type": "display_data"
    }
   ],
   "source": [
    "# Imprime una muestra de datos para los mensajes\n",
    "display(messages.sample(5, random_state=68975))"
   ]
  },
  {
   "cell_type": "markdown",
   "metadata": {
    "id": "04xDj7KH0q1A"
   },
   "source": [
    "Los datos estan correctamente leidos y no hay valores ausentes. Falta:\n",
    "- Verificar por valores duplicados\n",
    "- Corregir el tipo de dato de la columna 'id': de object a int64\n",
    "- Corregir el tipo de dato de 'message_date': de object a datetime"
   ]
  },
  {
   "cell_type": "markdown",
   "metadata": {
    "id": "Sprfak900q1B"
   },
   "source": [
    "#### Corregir los datos"
   ]
  },
  {
   "cell_type": "code",
   "execution_count": 15,
   "metadata": {
    "id": "vsllvkoa0q1B"
   },
   "outputs": [
    {
     "name": "stdout",
     "output_type": "stream",
     "text": [
      "Duplicados totales:  0\n",
      "Duplicados en \"id\":  0\n",
      "id                       int64\n",
      "user_id                  int64\n",
      "message_date    datetime64[ns]\n",
      "dtype: object\n"
     ]
    }
   ],
   "source": [
    "## Buscamos duplicados\n",
    "print('Duplicados totales: ',messages.duplicated().sum()) \n",
    "print('Duplicados en \"id\": ', messages['id'].duplicated().sum())\n",
    "\n",
    "## Corregimos el tipo de dato de id:\n",
    "try:\n",
    "    messages['id'] = messages['id'].str.replace('_', '')\n",
    "    messages['id'] = pd.to_numeric(messages['id'])\n",
    "except: \n",
    "    print('La columna id ya es int64')\n",
    "\n",
    "## Convertimos 'message_date' a datetime\n",
    "messages['message_date'] = pd.to_datetime(messages['message_date'], format='%Y-%m-%d')\n",
    "\n",
    "## imprimimos los tipos de dato para verificar las conversiones de tipos:\n",
    "print(messages.dtypes)"
   ]
  },
  {
   "cell_type": "markdown",
   "metadata": {
    "id": "HvLid7iD0q1B"
   },
   "source": [
    "#### Enriquecer los datos"
   ]
  },
  {
   "cell_type": "code",
   "execution_count": 16,
   "metadata": {
    "id": "zYEXZac10q1C"
   },
   "outputs": [
    {
     "name": "stdout",
     "output_type": "stream",
     "text": [
      "int64\n"
     ]
    },
    {
     "data": {
      "text/html": [
       "<div>\n",
       "<style scoped>\n",
       "    .dataframe tbody tr th:only-of-type {\n",
       "        vertical-align: middle;\n",
       "    }\n",
       "\n",
       "    .dataframe tbody tr th {\n",
       "        vertical-align: top;\n",
       "    }\n",
       "\n",
       "    .dataframe thead th {\n",
       "        text-align: right;\n",
       "    }\n",
       "</style>\n",
       "<table border=\"1\" class=\"dataframe\">\n",
       "  <thead>\n",
       "    <tr style=\"text-align: right;\">\n",
       "      <th></th>\n",
       "      <th>id</th>\n",
       "      <th>user_id</th>\n",
       "      <th>message_date</th>\n",
       "      <th>month</th>\n",
       "    </tr>\n",
       "  </thead>\n",
       "  <tbody>\n",
       "    <tr>\n",
       "      <th>23864</th>\n",
       "      <td>1144353</td>\n",
       "      <td>1144</td>\n",
       "      <td>2018-12-05</td>\n",
       "      <td>12</td>\n",
       "    </tr>\n",
       "    <tr>\n",
       "      <th>49555</th>\n",
       "      <td>1328513</td>\n",
       "      <td>1328</td>\n",
       "      <td>2018-08-28</td>\n",
       "      <td>8</td>\n",
       "    </tr>\n",
       "    <tr>\n",
       "      <th>57819</th>\n",
       "      <td>1364140</td>\n",
       "      <td>1364</td>\n",
       "      <td>2018-11-02</td>\n",
       "      <td>11</td>\n",
       "    </tr>\n",
       "    <tr>\n",
       "      <th>5551</th>\n",
       "      <td>1052308</td>\n",
       "      <td>1052</td>\n",
       "      <td>2018-12-05</td>\n",
       "      <td>12</td>\n",
       "    </tr>\n",
       "    <tr>\n",
       "      <th>11996</th>\n",
       "      <td>1079395</td>\n",
       "      <td>1079</td>\n",
       "      <td>2018-12-14</td>\n",
       "      <td>12</td>\n",
       "    </tr>\n",
       "  </tbody>\n",
       "</table>\n",
       "</div>"
      ],
      "text/plain": [
       "            id  user_id message_date  month\n",
       "23864  1144353     1144   2018-12-05     12\n",
       "49555  1328513     1328   2018-08-28      8\n",
       "57819  1364140     1364   2018-11-02     11\n",
       "5551   1052308     1052   2018-12-05     12\n",
       "11996  1079395     1079   2018-12-14     12"
      ]
     },
     "metadata": {},
     "output_type": "display_data"
    }
   ],
   "source": [
    "## Creamos una nueva columna, 'month' en el DF para visualizar el mes del mensaje:\n",
    "messages['month'] = messages['message_date'].dt.month\n",
    "print(messages['month'].dtype)\n",
    "\n",
    "## visualizamos la muestra para ver el DF actualizado:\n",
    "display(messages.sample(5, random_state=68975))"
   ]
  },
  {
   "cell_type": "markdown",
   "metadata": {
    "id": "bStkaxn40q1C"
   },
   "source": [
    "### Internet"
   ]
  },
  {
   "cell_type": "code",
   "execution_count": 17,
   "metadata": {
    "id": "e-Uz5qyn0q1C"
   },
   "outputs": [
    {
     "name": "stdout",
     "output_type": "stream",
     "text": [
      "<class 'pandas.core.frame.DataFrame'>\n",
      "RangeIndex: 104825 entries, 0 to 104824\n",
      "Data columns (total 4 columns):\n",
      " #   Column        Non-Null Count   Dtype  \n",
      "---  ------        --------------   -----  \n",
      " 0   id            104825 non-null  object \n",
      " 1   user_id       104825 non-null  int64  \n",
      " 2   session_date  104825 non-null  object \n",
      " 3   mb_used       104825 non-null  float64\n",
      "dtypes: float64(1), int64(1), object(2)\n",
      "memory usage: 3.2+ MB\n"
     ]
    }
   ],
   "source": [
    "# Información general/resumida sobre el DataFrame de internet\n",
    "internet.info()"
   ]
  },
  {
   "cell_type": "code",
   "execution_count": 18,
   "metadata": {
    "id": "9r3x_XLw0q1C"
   },
   "outputs": [
    {
     "data": {
      "text/html": [
       "<div>\n",
       "<style scoped>\n",
       "    .dataframe tbody tr th:only-of-type {\n",
       "        vertical-align: middle;\n",
       "    }\n",
       "\n",
       "    .dataframe tbody tr th {\n",
       "        vertical-align: top;\n",
       "    }\n",
       "\n",
       "    .dataframe thead th {\n",
       "        text-align: right;\n",
       "    }\n",
       "</style>\n",
       "<table border=\"1\" class=\"dataframe\">\n",
       "  <thead>\n",
       "    <tr style=\"text-align: right;\">\n",
       "      <th></th>\n",
       "      <th>id</th>\n",
       "      <th>user_id</th>\n",
       "      <th>session_date</th>\n",
       "      <th>mb_used</th>\n",
       "    </tr>\n",
       "  </thead>\n",
       "  <tbody>\n",
       "    <tr>\n",
       "      <th>47116</th>\n",
       "      <td>1210_332</td>\n",
       "      <td>1210</td>\n",
       "      <td>2018-07-05</td>\n",
       "      <td>269.50</td>\n",
       "    </tr>\n",
       "    <tr>\n",
       "      <th>60095</th>\n",
       "      <td>1270_420</td>\n",
       "      <td>1270</td>\n",
       "      <td>2018-10-24</td>\n",
       "      <td>446.75</td>\n",
       "    </tr>\n",
       "    <tr>\n",
       "      <th>43668</th>\n",
       "      <td>1194_86</td>\n",
       "      <td>1194</td>\n",
       "      <td>2018-10-18</td>\n",
       "      <td>842.22</td>\n",
       "    </tr>\n",
       "    <tr>\n",
       "      <th>40805</th>\n",
       "      <td>1182_587</td>\n",
       "      <td>1182</td>\n",
       "      <td>2018-11-16</td>\n",
       "      <td>717.19</td>\n",
       "    </tr>\n",
       "    <tr>\n",
       "      <th>86322</th>\n",
       "      <td>1400_459</td>\n",
       "      <td>1400</td>\n",
       "      <td>2018-12-16</td>\n",
       "      <td>214.88</td>\n",
       "    </tr>\n",
       "  </tbody>\n",
       "</table>\n",
       "</div>"
      ],
      "text/plain": [
       "             id  user_id session_date  mb_used\n",
       "47116  1210_332     1210   2018-07-05   269.50\n",
       "60095  1270_420     1270   2018-10-24   446.75\n",
       "43668   1194_86     1194   2018-10-18   842.22\n",
       "40805  1182_587     1182   2018-11-16   717.19\n",
       "86322  1400_459     1400   2018-12-16   214.88"
      ]
     },
     "metadata": {},
     "output_type": "display_data"
    }
   ],
   "source": [
    "# Imprime una muestra de datos para el tráfico de internet\n",
    "display(internet.sample(5, random_state=159768))"
   ]
  },
  {
   "cell_type": "markdown",
   "metadata": {
    "id": "EzOG5ik30q1D"
   },
   "source": [
    "No hay valores ausentes, pero:\n",
    "- Hace falta buscar por duplicados en el DF\n",
    "- El tipo de dato de la columna 'id' se puede cambiar por int64\n",
    "- El tipo de dato de 'session_date' se puede cambiar por datetime."
   ]
  },
  {
   "cell_type": "markdown",
   "metadata": {
    "id": "yA0tkPFg0q1D"
   },
   "source": [
    "#### Corregir los datos"
   ]
  },
  {
   "cell_type": "code",
   "execution_count": 19,
   "metadata": {
    "id": "zVeanzdd0q1E"
   },
   "outputs": [
    {
     "name": "stdout",
     "output_type": "stream",
     "text": [
      "Duplicados totales:  0\n",
      "Duplicados en id:  0\n",
      "id                       int64\n",
      "user_id                  int64\n",
      "session_date    datetime64[ns]\n",
      "mb_used                float64\n",
      "dtype: object\n"
     ]
    }
   ],
   "source": [
    "## Buscamos duplicados en el DF\n",
    "print('Duplicados totales: ', internet.duplicated().sum()) # Duplicados totales: 0\n",
    "print('Duplicados en id: ',internet['id'].duplicated().sum()) # Duplicados en id: 0\n",
    "\n",
    "## Cambiamos el tipo de dato de 'id':\n",
    "try:\n",
    "    internet['id'] = internet['id'].str.replace('_','')\n",
    "    internet['id'] = pd.to_numeric(internet['id'])\n",
    "except: \n",
    "    print('La columna id ya es int64')\n",
    "\n",
    "# Cambiamos el tipo de dato de 'session_date'\n",
    "internet['session_date'] = pd.to_datetime(internet['session_date'], format='%Y-%m-%d')\n",
    "\n",
    "## imprimimos los tipos de dato para verificar las conversiones de tipos:\n",
    "print(internet.dtypes)"
   ]
  },
  {
   "cell_type": "markdown",
   "metadata": {
    "id": "e8_mLF4a0q1E"
   },
   "source": [
    "#### Enriquecer los datos"
   ]
  },
  {
   "cell_type": "code",
   "execution_count": 20,
   "metadata": {
    "id": "ESiYPIEK0q1E"
   },
   "outputs": [
    {
     "data": {
      "text/html": [
       "<div>\n",
       "<style scoped>\n",
       "    .dataframe tbody tr th:only-of-type {\n",
       "        vertical-align: middle;\n",
       "    }\n",
       "\n",
       "    .dataframe tbody tr th {\n",
       "        vertical-align: top;\n",
       "    }\n",
       "\n",
       "    .dataframe thead th {\n",
       "        text-align: right;\n",
       "    }\n",
       "</style>\n",
       "<table border=\"1\" class=\"dataframe\">\n",
       "  <thead>\n",
       "    <tr style=\"text-align: right;\">\n",
       "      <th></th>\n",
       "      <th>id</th>\n",
       "      <th>user_id</th>\n",
       "      <th>session_date</th>\n",
       "      <th>mb_used</th>\n",
       "      <th>month</th>\n",
       "    </tr>\n",
       "  </thead>\n",
       "  <tbody>\n",
       "    <tr>\n",
       "      <th>47116</th>\n",
       "      <td>1210332</td>\n",
       "      <td>1210</td>\n",
       "      <td>2018-07-05</td>\n",
       "      <td>269.50</td>\n",
       "      <td>7</td>\n",
       "    </tr>\n",
       "    <tr>\n",
       "      <th>60095</th>\n",
       "      <td>1270420</td>\n",
       "      <td>1270</td>\n",
       "      <td>2018-10-24</td>\n",
       "      <td>446.75</td>\n",
       "      <td>10</td>\n",
       "    </tr>\n",
       "    <tr>\n",
       "      <th>43668</th>\n",
       "      <td>119486</td>\n",
       "      <td>1194</td>\n",
       "      <td>2018-10-18</td>\n",
       "      <td>842.22</td>\n",
       "      <td>10</td>\n",
       "    </tr>\n",
       "    <tr>\n",
       "      <th>40805</th>\n",
       "      <td>1182587</td>\n",
       "      <td>1182</td>\n",
       "      <td>2018-11-16</td>\n",
       "      <td>717.19</td>\n",
       "      <td>11</td>\n",
       "    </tr>\n",
       "    <tr>\n",
       "      <th>86322</th>\n",
       "      <td>1400459</td>\n",
       "      <td>1400</td>\n",
       "      <td>2018-12-16</td>\n",
       "      <td>214.88</td>\n",
       "      <td>12</td>\n",
       "    </tr>\n",
       "  </tbody>\n",
       "</table>\n",
       "</div>"
      ],
      "text/plain": [
       "            id  user_id session_date  mb_used  month\n",
       "47116  1210332     1210   2018-07-05   269.50      7\n",
       "60095  1270420     1270   2018-10-24   446.75     10\n",
       "43668   119486     1194   2018-10-18   842.22     10\n",
       "40805  1182587     1182   2018-11-16   717.19     11\n",
       "86322  1400459     1400   2018-12-16   214.88     12"
      ]
     },
     "metadata": {},
     "output_type": "display_data"
    }
   ],
   "source": [
    "## Creamos una nueva columna, month, para ver el mes en el que se realizó la sesión web:\n",
    "internet['month'] = internet['session_date'].dt.month\n",
    "\n",
    "# Visualizamos la nueva versión del DF:\n",
    "display(internet.sample(5, random_state=159768))"
   ]
  },
  {
   "cell_type": "markdown",
   "metadata": {
    "id": "3UA2cqIW0q1E"
   },
   "source": [
    "## Estudiar las condiciones de las tarifas"
   ]
  },
  {
   "cell_type": "code",
   "execution_count": 21,
   "metadata": {
    "id": "i409op8p0q1F"
   },
   "outputs": [
    {
     "data": {
      "text/html": [
       "<div>\n",
       "<style scoped>\n",
       "    .dataframe tbody tr th:only-of-type {\n",
       "        vertical-align: middle;\n",
       "    }\n",
       "\n",
       "    .dataframe tbody tr th {\n",
       "        vertical-align: top;\n",
       "    }\n",
       "\n",
       "    .dataframe thead th {\n",
       "        text-align: right;\n",
       "    }\n",
       "</style>\n",
       "<table border=\"1\" class=\"dataframe\">\n",
       "  <thead>\n",
       "    <tr style=\"text-align: right;\">\n",
       "      <th></th>\n",
       "      <th>messages_included</th>\n",
       "      <th>mb_per_month_included</th>\n",
       "      <th>minutes_included</th>\n",
       "      <th>usd_monthly_pay</th>\n",
       "      <th>usd_per_gb</th>\n",
       "      <th>usd_per_message</th>\n",
       "      <th>usd_per_minute</th>\n",
       "      <th>plan_name</th>\n",
       "    </tr>\n",
       "  </thead>\n",
       "  <tbody>\n",
       "    <tr>\n",
       "      <th>0</th>\n",
       "      <td>50</td>\n",
       "      <td>15360</td>\n",
       "      <td>500</td>\n",
       "      <td>20</td>\n",
       "      <td>10</td>\n",
       "      <td>0.03</td>\n",
       "      <td>0.03</td>\n",
       "      <td>surf</td>\n",
       "    </tr>\n",
       "    <tr>\n",
       "      <th>1</th>\n",
       "      <td>1000</td>\n",
       "      <td>30720</td>\n",
       "      <td>3000</td>\n",
       "      <td>70</td>\n",
       "      <td>7</td>\n",
       "      <td>0.01</td>\n",
       "      <td>0.01</td>\n",
       "      <td>ultimate</td>\n",
       "    </tr>\n",
       "  </tbody>\n",
       "</table>\n",
       "</div>"
      ],
      "text/plain": [
       "   messages_included  mb_per_month_included  minutes_included  \\\n",
       "0                 50                  15360               500   \n",
       "1               1000                  30720              3000   \n",
       "\n",
       "   usd_monthly_pay  usd_per_gb  usd_per_message  usd_per_minute plan_name  \n",
       "0               20          10             0.03            0.03      surf  \n",
       "1               70           7             0.01            0.01  ultimate  "
      ]
     },
     "metadata": {},
     "output_type": "display_data"
    }
   ],
   "source": [
    "# Condiciones de las tarifas de megaline:\n",
    "display(plans)"
   ]
  },
  {
   "cell_type": "markdown",
   "metadata": {
    "id": "hMR1tP5d0q1F"
   },
   "source": [
    "## Agregar datos por usuario\n",
    "Creamos un solo registro ***'ingreso_mensual_usuarios'*** que recopile los datos por usuario y por periodo de las llamadas, minutos, mensajes y gigabytes usados por usuario y por mes. Así como también, recopile la información de las cuotas mensuales cobradas a los usuarios (los ingresos de la empresa), de acuerdo a las condiciones de las tarifas.\n",
    "\n",
    "Comenzamos por hacer un recuento de los consumos totales por mes y por usuario de llamadas, minutos, mensajes y gigabytes:"
   ]
  },
  {
   "cell_type": "code",
   "execution_count": 42,
   "metadata": {
    "id": "A332cedB0q1G",
    "scrolled": false
   },
   "outputs": [
    {
     "data": {
      "text/html": [
       "<div>\n",
       "<style scoped>\n",
       "    .dataframe tbody tr th:only-of-type {\n",
       "        vertical-align: middle;\n",
       "    }\n",
       "\n",
       "    .dataframe tbody tr th {\n",
       "        vertical-align: top;\n",
       "    }\n",
       "\n",
       "    .dataframe thead th {\n",
       "        text-align: right;\n",
       "    }\n",
       "</style>\n",
       "<table border=\"1\" class=\"dataframe\">\n",
       "  <thead>\n",
       "    <tr style=\"text-align: right;\">\n",
       "      <th></th>\n",
       "      <th></th>\n",
       "      <th>llamadas</th>\n",
       "      <th>minutos</th>\n",
       "    </tr>\n",
       "    <tr>\n",
       "      <th>user_id</th>\n",
       "      <th>month</th>\n",
       "      <th></th>\n",
       "      <th></th>\n",
       "    </tr>\n",
       "  </thead>\n",
       "  <tbody>\n",
       "    <tr>\n",
       "      <th>1000</th>\n",
       "      <th>12</th>\n",
       "      <td>16</td>\n",
       "      <td>124</td>\n",
       "    </tr>\n",
       "    <tr>\n",
       "      <th rowspan=\"4\" valign=\"top\">1001</th>\n",
       "      <th>8</th>\n",
       "      <td>27</td>\n",
       "      <td>182</td>\n",
       "    </tr>\n",
       "    <tr>\n",
       "      <th>9</th>\n",
       "      <td>49</td>\n",
       "      <td>315</td>\n",
       "    </tr>\n",
       "    <tr>\n",
       "      <th>10</th>\n",
       "      <td>65</td>\n",
       "      <td>393</td>\n",
       "    </tr>\n",
       "    <tr>\n",
       "      <th>11</th>\n",
       "      <td>64</td>\n",
       "      <td>426</td>\n",
       "    </tr>\n",
       "    <tr>\n",
       "      <th>...</th>\n",
       "      <th>...</th>\n",
       "      <td>...</td>\n",
       "      <td>...</td>\n",
       "    </tr>\n",
       "    <tr>\n",
       "      <th>1498</th>\n",
       "      <th>12</th>\n",
       "      <td>39</td>\n",
       "      <td>339</td>\n",
       "    </tr>\n",
       "    <tr>\n",
       "      <th rowspan=\"4\" valign=\"top\">1499</th>\n",
       "      <th>9</th>\n",
       "      <td>41</td>\n",
       "      <td>346</td>\n",
       "    </tr>\n",
       "    <tr>\n",
       "      <th>10</th>\n",
       "      <td>53</td>\n",
       "      <td>385</td>\n",
       "    </tr>\n",
       "    <tr>\n",
       "      <th>11</th>\n",
       "      <td>45</td>\n",
       "      <td>308</td>\n",
       "    </tr>\n",
       "    <tr>\n",
       "      <th>12</th>\n",
       "      <td>65</td>\n",
       "      <td>496</td>\n",
       "    </tr>\n",
       "  </tbody>\n",
       "</table>\n",
       "<p>2258 rows × 2 columns</p>\n",
       "</div>"
      ],
      "text/plain": [
       "               llamadas  minutos\n",
       "user_id month                   \n",
       "1000    12           16      124\n",
       "1001    8            27      182\n",
       "        9            49      315\n",
       "        10           65      393\n",
       "        11           64      426\n",
       "...                 ...      ...\n",
       "1498    12           39      339\n",
       "1499    9            41      346\n",
       "        10           53      385\n",
       "        11           45      308\n",
       "        12           65      496\n",
       "\n",
       "[2258 rows x 2 columns]"
      ]
     },
     "metadata": {},
     "output_type": "display_data"
    },
    {
     "data": {
      "text/html": [
       "<div>\n",
       "<style scoped>\n",
       "    .dataframe tbody tr th:only-of-type {\n",
       "        vertical-align: middle;\n",
       "    }\n",
       "\n",
       "    .dataframe tbody tr th {\n",
       "        vertical-align: top;\n",
       "    }\n",
       "\n",
       "    .dataframe thead tr th {\n",
       "        text-align: left;\n",
       "    }\n",
       "\n",
       "    .dataframe thead tr:last-of-type th {\n",
       "        text-align: right;\n",
       "    }\n",
       "</style>\n",
       "<table border=\"1\" class=\"dataframe\">\n",
       "  <thead>\n",
       "    <tr>\n",
       "      <th></th>\n",
       "      <th colspan=\"10\" halign=\"left\">count</th>\n",
       "      <th>...</th>\n",
       "      <th colspan=\"10\" halign=\"left\">sum</th>\n",
       "    </tr>\n",
       "    <tr>\n",
       "      <th></th>\n",
       "      <th colspan=\"10\" halign=\"left\">id</th>\n",
       "      <th>...</th>\n",
       "      <th colspan=\"10\" halign=\"left\">rounded_duration</th>\n",
       "    </tr>\n",
       "    <tr>\n",
       "      <th>month</th>\n",
       "      <th>1</th>\n",
       "      <th>2</th>\n",
       "      <th>3</th>\n",
       "      <th>4</th>\n",
       "      <th>5</th>\n",
       "      <th>6</th>\n",
       "      <th>7</th>\n",
       "      <th>8</th>\n",
       "      <th>9</th>\n",
       "      <th>10</th>\n",
       "      <th>...</th>\n",
       "      <th>3</th>\n",
       "      <th>4</th>\n",
       "      <th>5</th>\n",
       "      <th>6</th>\n",
       "      <th>7</th>\n",
       "      <th>8</th>\n",
       "      <th>9</th>\n",
       "      <th>10</th>\n",
       "      <th>11</th>\n",
       "      <th>12</th>\n",
       "    </tr>\n",
       "    <tr>\n",
       "      <th>user_id</th>\n",
       "      <th></th>\n",
       "      <th></th>\n",
       "      <th></th>\n",
       "      <th></th>\n",
       "      <th></th>\n",
       "      <th></th>\n",
       "      <th></th>\n",
       "      <th></th>\n",
       "      <th></th>\n",
       "      <th></th>\n",
       "      <th></th>\n",
       "      <th></th>\n",
       "      <th></th>\n",
       "      <th></th>\n",
       "      <th></th>\n",
       "      <th></th>\n",
       "      <th></th>\n",
       "      <th></th>\n",
       "      <th></th>\n",
       "      <th></th>\n",
       "      <th></th>\n",
       "    </tr>\n",
       "  </thead>\n",
       "  <tbody>\n",
       "    <tr>\n",
       "      <th>1000</th>\n",
       "      <td>NaN</td>\n",
       "      <td>NaN</td>\n",
       "      <td>NaN</td>\n",
       "      <td>NaN</td>\n",
       "      <td>NaN</td>\n",
       "      <td>NaN</td>\n",
       "      <td>NaN</td>\n",
       "      <td>NaN</td>\n",
       "      <td>NaN</td>\n",
       "      <td>NaN</td>\n",
       "      <td>...</td>\n",
       "      <td>NaN</td>\n",
       "      <td>NaN</td>\n",
       "      <td>NaN</td>\n",
       "      <td>NaN</td>\n",
       "      <td>NaN</td>\n",
       "      <td>NaN</td>\n",
       "      <td>NaN</td>\n",
       "      <td>NaN</td>\n",
       "      <td>NaN</td>\n",
       "      <td>124.0</td>\n",
       "    </tr>\n",
       "    <tr>\n",
       "      <th>1001</th>\n",
       "      <td>NaN</td>\n",
       "      <td>NaN</td>\n",
       "      <td>NaN</td>\n",
       "      <td>NaN</td>\n",
       "      <td>NaN</td>\n",
       "      <td>NaN</td>\n",
       "      <td>NaN</td>\n",
       "      <td>27.0</td>\n",
       "      <td>49.0</td>\n",
       "      <td>65.0</td>\n",
       "      <td>...</td>\n",
       "      <td>NaN</td>\n",
       "      <td>NaN</td>\n",
       "      <td>NaN</td>\n",
       "      <td>NaN</td>\n",
       "      <td>NaN</td>\n",
       "      <td>182.0</td>\n",
       "      <td>315.0</td>\n",
       "      <td>393.0</td>\n",
       "      <td>426.0</td>\n",
       "      <td>412.0</td>\n",
       "    </tr>\n",
       "    <tr>\n",
       "      <th>1002</th>\n",
       "      <td>NaN</td>\n",
       "      <td>NaN</td>\n",
       "      <td>NaN</td>\n",
       "      <td>NaN</td>\n",
       "      <td>NaN</td>\n",
       "      <td>NaN</td>\n",
       "      <td>NaN</td>\n",
       "      <td>NaN</td>\n",
       "      <td>NaN</td>\n",
       "      <td>11.0</td>\n",
       "      <td>...</td>\n",
       "      <td>NaN</td>\n",
       "      <td>NaN</td>\n",
       "      <td>NaN</td>\n",
       "      <td>NaN</td>\n",
       "      <td>NaN</td>\n",
       "      <td>NaN</td>\n",
       "      <td>NaN</td>\n",
       "      <td>59.0</td>\n",
       "      <td>386.0</td>\n",
       "      <td>384.0</td>\n",
       "    </tr>\n",
       "    <tr>\n",
       "      <th>1003</th>\n",
       "      <td>NaN</td>\n",
       "      <td>NaN</td>\n",
       "      <td>NaN</td>\n",
       "      <td>NaN</td>\n",
       "      <td>NaN</td>\n",
       "      <td>NaN</td>\n",
       "      <td>NaN</td>\n",
       "      <td>NaN</td>\n",
       "      <td>NaN</td>\n",
       "      <td>NaN</td>\n",
       "      <td>...</td>\n",
       "      <td>NaN</td>\n",
       "      <td>NaN</td>\n",
       "      <td>NaN</td>\n",
       "      <td>NaN</td>\n",
       "      <td>NaN</td>\n",
       "      <td>NaN</td>\n",
       "      <td>NaN</td>\n",
       "      <td>NaN</td>\n",
       "      <td>NaN</td>\n",
       "      <td>1104.0</td>\n",
       "    </tr>\n",
       "    <tr>\n",
       "      <th>1004</th>\n",
       "      <td>NaN</td>\n",
       "      <td>NaN</td>\n",
       "      <td>NaN</td>\n",
       "      <td>NaN</td>\n",
       "      <td>21.0</td>\n",
       "      <td>44.0</td>\n",
       "      <td>49.0</td>\n",
       "      <td>49.0</td>\n",
       "      <td>42.0</td>\n",
       "      <td>61.0</td>\n",
       "      <td>...</td>\n",
       "      <td>NaN</td>\n",
       "      <td>NaN</td>\n",
       "      <td>193.0</td>\n",
       "      <td>275.0</td>\n",
       "      <td>381.0</td>\n",
       "      <td>354.0</td>\n",
       "      <td>301.0</td>\n",
       "      <td>365.0</td>\n",
       "      <td>476.0</td>\n",
       "      <td>427.0</td>\n",
       "    </tr>\n",
       "    <tr>\n",
       "      <th>...</th>\n",
       "      <td>...</td>\n",
       "      <td>...</td>\n",
       "      <td>...</td>\n",
       "      <td>...</td>\n",
       "      <td>...</td>\n",
       "      <td>...</td>\n",
       "      <td>...</td>\n",
       "      <td>...</td>\n",
       "      <td>...</td>\n",
       "      <td>...</td>\n",
       "      <td>...</td>\n",
       "      <td>...</td>\n",
       "      <td>...</td>\n",
       "      <td>...</td>\n",
       "      <td>...</td>\n",
       "      <td>...</td>\n",
       "      <td>...</td>\n",
       "      <td>...</td>\n",
       "      <td>...</td>\n",
       "      <td>...</td>\n",
       "      <td>...</td>\n",
       "    </tr>\n",
       "    <tr>\n",
       "      <th>1495</th>\n",
       "      <td>NaN</td>\n",
       "      <td>NaN</td>\n",
       "      <td>NaN</td>\n",
       "      <td>NaN</td>\n",
       "      <td>NaN</td>\n",
       "      <td>NaN</td>\n",
       "      <td>NaN</td>\n",
       "      <td>NaN</td>\n",
       "      <td>52.0</td>\n",
       "      <td>75.0</td>\n",
       "      <td>...</td>\n",
       "      <td>NaN</td>\n",
       "      <td>NaN</td>\n",
       "      <td>NaN</td>\n",
       "      <td>NaN</td>\n",
       "      <td>NaN</td>\n",
       "      <td>NaN</td>\n",
       "      <td>302.0</td>\n",
       "      <td>610.0</td>\n",
       "      <td>361.0</td>\n",
       "      <td>492.0</td>\n",
       "    </tr>\n",
       "    <tr>\n",
       "      <th>1496</th>\n",
       "      <td>NaN</td>\n",
       "      <td>NaN</td>\n",
       "      <td>NaN</td>\n",
       "      <td>NaN</td>\n",
       "      <td>NaN</td>\n",
       "      <td>NaN</td>\n",
       "      <td>NaN</td>\n",
       "      <td>18.0</td>\n",
       "      <td>52.0</td>\n",
       "      <td>46.0</td>\n",
       "      <td>...</td>\n",
       "      <td>NaN</td>\n",
       "      <td>NaN</td>\n",
       "      <td>NaN</td>\n",
       "      <td>NaN</td>\n",
       "      <td>NaN</td>\n",
       "      <td>122.0</td>\n",
       "      <td>414.0</td>\n",
       "      <td>317.0</td>\n",
       "      <td>308.0</td>\n",
       "      <td>294.0</td>\n",
       "    </tr>\n",
       "    <tr>\n",
       "      <th>1497</th>\n",
       "      <td>NaN</td>\n",
       "      <td>NaN</td>\n",
       "      <td>NaN</td>\n",
       "      <td>NaN</td>\n",
       "      <td>NaN</td>\n",
       "      <td>NaN</td>\n",
       "      <td>NaN</td>\n",
       "      <td>NaN</td>\n",
       "      <td>NaN</td>\n",
       "      <td>NaN</td>\n",
       "      <td>...</td>\n",
       "      <td>NaN</td>\n",
       "      <td>NaN</td>\n",
       "      <td>NaN</td>\n",
       "      <td>NaN</td>\n",
       "      <td>NaN</td>\n",
       "      <td>NaN</td>\n",
       "      <td>NaN</td>\n",
       "      <td>NaN</td>\n",
       "      <td>NaN</td>\n",
       "      <td>300.0</td>\n",
       "    </tr>\n",
       "    <tr>\n",
       "      <th>1498</th>\n",
       "      <td>NaN</td>\n",
       "      <td>37.0</td>\n",
       "      <td>37.0</td>\n",
       "      <td>47.0</td>\n",
       "      <td>35.0</td>\n",
       "      <td>37.0</td>\n",
       "      <td>43.0</td>\n",
       "      <td>44.0</td>\n",
       "      <td>45.0</td>\n",
       "      <td>46.0</td>\n",
       "      <td>...</td>\n",
       "      <td>266.0</td>\n",
       "      <td>365.0</td>\n",
       "      <td>288.0</td>\n",
       "      <td>238.0</td>\n",
       "      <td>321.0</td>\n",
       "      <td>266.0</td>\n",
       "      <td>363.0</td>\n",
       "      <td>298.0</td>\n",
       "      <td>223.0</td>\n",
       "      <td>339.0</td>\n",
       "    </tr>\n",
       "    <tr>\n",
       "      <th>1499</th>\n",
       "      <td>NaN</td>\n",
       "      <td>NaN</td>\n",
       "      <td>NaN</td>\n",
       "      <td>NaN</td>\n",
       "      <td>NaN</td>\n",
       "      <td>NaN</td>\n",
       "      <td>NaN</td>\n",
       "      <td>NaN</td>\n",
       "      <td>41.0</td>\n",
       "      <td>53.0</td>\n",
       "      <td>...</td>\n",
       "      <td>NaN</td>\n",
       "      <td>NaN</td>\n",
       "      <td>NaN</td>\n",
       "      <td>NaN</td>\n",
       "      <td>NaN</td>\n",
       "      <td>NaN</td>\n",
       "      <td>346.0</td>\n",
       "      <td>385.0</td>\n",
       "      <td>308.0</td>\n",
       "      <td>496.0</td>\n",
       "    </tr>\n",
       "  </tbody>\n",
       "</table>\n",
       "<p>481 rows × 48 columns</p>\n",
       "</div>"
      ],
      "text/plain": [
       "        count                                                        ...  \\\n",
       "           id                                                        ...   \n",
       "month      1     2     3     4     5     6     7     8     9     10  ...   \n",
       "user_id                                                              ...   \n",
       "1000      NaN   NaN   NaN   NaN   NaN   NaN   NaN   NaN   NaN   NaN  ...   \n",
       "1001      NaN   NaN   NaN   NaN   NaN   NaN   NaN  27.0  49.0  65.0  ...   \n",
       "1002      NaN   NaN   NaN   NaN   NaN   NaN   NaN   NaN   NaN  11.0  ...   \n",
       "1003      NaN   NaN   NaN   NaN   NaN   NaN   NaN   NaN   NaN   NaN  ...   \n",
       "1004      NaN   NaN   NaN   NaN  21.0  44.0  49.0  49.0  42.0  61.0  ...   \n",
       "...       ...   ...   ...   ...   ...   ...   ...   ...   ...   ...  ...   \n",
       "1495      NaN   NaN   NaN   NaN   NaN   NaN   NaN   NaN  52.0  75.0  ...   \n",
       "1496      NaN   NaN   NaN   NaN   NaN   NaN   NaN  18.0  52.0  46.0  ...   \n",
       "1497      NaN   NaN   NaN   NaN   NaN   NaN   NaN   NaN   NaN   NaN  ...   \n",
       "1498      NaN  37.0  37.0  47.0  35.0  37.0  43.0  44.0  45.0  46.0  ...   \n",
       "1499      NaN   NaN   NaN   NaN   NaN   NaN   NaN   NaN  41.0  53.0  ...   \n",
       "\n",
       "                     sum                                                   \\\n",
       "        rounded_duration                                                    \n",
       "month                 3      4      5      6      7      8      9      10   \n",
       "user_id                                                                     \n",
       "1000                 NaN    NaN    NaN    NaN    NaN    NaN    NaN    NaN   \n",
       "1001                 NaN    NaN    NaN    NaN    NaN  182.0  315.0  393.0   \n",
       "1002                 NaN    NaN    NaN    NaN    NaN    NaN    NaN   59.0   \n",
       "1003                 NaN    NaN    NaN    NaN    NaN    NaN    NaN    NaN   \n",
       "1004                 NaN    NaN  193.0  275.0  381.0  354.0  301.0  365.0   \n",
       "...                  ...    ...    ...    ...    ...    ...    ...    ...   \n",
       "1495                 NaN    NaN    NaN    NaN    NaN    NaN  302.0  610.0   \n",
       "1496                 NaN    NaN    NaN    NaN    NaN  122.0  414.0  317.0   \n",
       "1497                 NaN    NaN    NaN    NaN    NaN    NaN    NaN    NaN   \n",
       "1498               266.0  365.0  288.0  238.0  321.0  266.0  363.0  298.0   \n",
       "1499                 NaN    NaN    NaN    NaN    NaN    NaN  346.0  385.0   \n",
       "\n",
       "                        \n",
       "                        \n",
       "month       11      12  \n",
       "user_id                 \n",
       "1000       NaN   124.0  \n",
       "1001     426.0   412.0  \n",
       "1002     386.0   384.0  \n",
       "1003       NaN  1104.0  \n",
       "1004     476.0   427.0  \n",
       "...        ...     ...  \n",
       "1495     361.0   492.0  \n",
       "1496     308.0   294.0  \n",
       "1497       NaN   300.0  \n",
       "1498     223.0   339.0  \n",
       "1499     308.0   496.0  \n",
       "\n",
       "[481 rows x 48 columns]"
      ]
     },
     "metadata": {},
     "output_type": "display_data"
    }
   ],
   "source": [
    "# Se calcula el número de llamadas hechas por cada usuario al mes. \n",
    "    ## Para ello filtramos la Tabla calls: user_id/month. Sobre 'id' aplicamos count(). \n",
    "\n",
    "# Se calcula la cantidad de minutos usados por cada usuario al mes.\n",
    "    ## Para ello filtramos la Tabla calls: user_id/month. Sobre 'rounded_duration' aplicamos sum(). \n",
    "### Forma 1: Con groupby.\n",
    "calls_recount = calls.groupby(['user_id', 'month']).agg({'id': 'count', 'rounded_duration': 'sum'})\n",
    "calls_recount.rename(columns={'id': 'llamadas', 'rounded_duration': 'minutos'}, inplace=True)\n",
    "display(calls_recount)\n",
    "\n",
    "### Forma 2: Con una pivot Table.\n",
    "calls_table = calls.pivot_table(index='user_id',\n",
    "                            columns='month',\n",
    "                            values=['id','rounded_duration'],\n",
    "                            aggfunc=['count','sum']\n",
    "                           )\n",
    "display(calls_table)"
   ]
  },
  {
   "cell_type": "code",
   "execution_count": 23,
   "metadata": {
    "id": "CcQvNHn60q1G"
   },
   "outputs": [],
   "source": [
    "# Se calcula el número de mensajes enviados por cada usuario al mes.\n",
    "    ## Filtramos la Tabla messages: user_id/month. Sobre 'id' aplicamos count(). \n",
    "messages_recount = messages.groupby(['user_id','month']).agg({'id': 'count'})\n",
    "messages_recount.rename(columns={'id': 'mensajes'}, inplace = True)\n",
    "#display(messages_recount)"
   ]
  },
  {
   "cell_type": "code",
   "execution_count": 24,
   "metadata": {
    "id": "H1AqN2eG0q1H",
    "scrolled": false
   },
   "outputs": [],
   "source": [
    "# Se calcula el volumen del tráfico de Internet usado por cada usuario al mes.\n",
    "\n",
    "## Antes de filtrar hacemos una función que redondee los mb usados, Para el trafico web, \n",
    "## Megaline redondea el total del mes hacia arriba. Si alguien usa 1025 megabytes este mes, se le cobrarán 2 gigabytes.\n",
    "def redondear_gb(x_megas):\n",
    "    # Los GB se forman por multiplos de 1024 MB\n",
    "    x_gigas = math.ceil(x_megas/1024)\n",
    "    return x_gigas\n",
    "\n",
    "## Filtramos la Tabla Internet: user_id/month. Sobre 'mb_used' aplicamos sum(). \n",
    "internet_recount = internet.groupby(['user_id', 'month']).agg({'mb_used': 'sum'})\n",
    "internet_recount.rename(columns = {'mb_used': 'megabytes'}, inplace = True)\n",
    "internet_recount['gigabytes'] = internet_recount['megabytes'].apply(redondear_gb) # Aplicamos redondear_gb para redondear a gb\n",
    "#display(internet_recount)"
   ]
  },
  {
   "cell_type": "markdown",
   "metadata": {
    "id": "VDfYXnj80q1H"
   },
   "source": [
    "Fusionamos los recuentos anteriores en un solo DF, consumo_mensual.\n",
    "A este DF le añadimos la información de usuario, para saber a que plan pertenece cada usuario:"
   ]
  },
  {
   "cell_type": "code",
   "execution_count": 25,
   "metadata": {
    "id": "FW99ykyf0q1H"
   },
   "outputs": [
    {
     "data": {
      "text/html": [
       "<div>\n",
       "<style scoped>\n",
       "    .dataframe tbody tr th:only-of-type {\n",
       "        vertical-align: middle;\n",
       "    }\n",
       "\n",
       "    .dataframe tbody tr th {\n",
       "        vertical-align: top;\n",
       "    }\n",
       "\n",
       "    .dataframe thead th {\n",
       "        text-align: right;\n",
       "    }\n",
       "</style>\n",
       "<table border=\"1\" class=\"dataframe\">\n",
       "  <thead>\n",
       "    <tr style=\"text-align: right;\">\n",
       "      <th></th>\n",
       "      <th>user_id</th>\n",
       "      <th>plan</th>\n",
       "      <th>month</th>\n",
       "      <th>llamadas</th>\n",
       "      <th>minutos</th>\n",
       "      <th>mensajes</th>\n",
       "      <th>megabytes</th>\n",
       "      <th>gigabytes</th>\n",
       "    </tr>\n",
       "  </thead>\n",
       "  <tbody>\n",
       "    <tr>\n",
       "      <th>0</th>\n",
       "      <td>1000</td>\n",
       "      <td>ultimate</td>\n",
       "      <td>12</td>\n",
       "      <td>16.0</td>\n",
       "      <td>124.0</td>\n",
       "      <td>11.0</td>\n",
       "      <td>1901.47</td>\n",
       "      <td>2.0</td>\n",
       "    </tr>\n",
       "    <tr>\n",
       "      <th>1</th>\n",
       "      <td>1001</td>\n",
       "      <td>surf</td>\n",
       "      <td>8</td>\n",
       "      <td>27.0</td>\n",
       "      <td>182.0</td>\n",
       "      <td>30.0</td>\n",
       "      <td>6919.15</td>\n",
       "      <td>7.0</td>\n",
       "    </tr>\n",
       "    <tr>\n",
       "      <th>2</th>\n",
       "      <td>1001</td>\n",
       "      <td>surf</td>\n",
       "      <td>9</td>\n",
       "      <td>49.0</td>\n",
       "      <td>315.0</td>\n",
       "      <td>44.0</td>\n",
       "      <td>13314.82</td>\n",
       "      <td>14.0</td>\n",
       "    </tr>\n",
       "    <tr>\n",
       "      <th>3</th>\n",
       "      <td>1001</td>\n",
       "      <td>surf</td>\n",
       "      <td>10</td>\n",
       "      <td>65.0</td>\n",
       "      <td>393.0</td>\n",
       "      <td>53.0</td>\n",
       "      <td>22330.49</td>\n",
       "      <td>22.0</td>\n",
       "    </tr>\n",
       "    <tr>\n",
       "      <th>4</th>\n",
       "      <td>1001</td>\n",
       "      <td>surf</td>\n",
       "      <td>11</td>\n",
       "      <td>64.0</td>\n",
       "      <td>426.0</td>\n",
       "      <td>36.0</td>\n",
       "      <td>18504.30</td>\n",
       "      <td>19.0</td>\n",
       "    </tr>\n",
       "    <tr>\n",
       "      <th>...</th>\n",
       "      <td>...</td>\n",
       "      <td>...</td>\n",
       "      <td>...</td>\n",
       "      <td>...</td>\n",
       "      <td>...</td>\n",
       "      <td>...</td>\n",
       "      <td>...</td>\n",
       "      <td>...</td>\n",
       "    </tr>\n",
       "    <tr>\n",
       "      <th>2288</th>\n",
       "      <td>1498</td>\n",
       "      <td>surf</td>\n",
       "      <td>12</td>\n",
       "      <td>39.0</td>\n",
       "      <td>339.0</td>\n",
       "      <td>0.0</td>\n",
       "      <td>23137.69</td>\n",
       "      <td>23.0</td>\n",
       "    </tr>\n",
       "    <tr>\n",
       "      <th>2289</th>\n",
       "      <td>1499</td>\n",
       "      <td>surf</td>\n",
       "      <td>9</td>\n",
       "      <td>41.0</td>\n",
       "      <td>346.0</td>\n",
       "      <td>0.0</td>\n",
       "      <td>12984.76</td>\n",
       "      <td>13.0</td>\n",
       "    </tr>\n",
       "    <tr>\n",
       "      <th>2290</th>\n",
       "      <td>1499</td>\n",
       "      <td>surf</td>\n",
       "      <td>10</td>\n",
       "      <td>53.0</td>\n",
       "      <td>385.0</td>\n",
       "      <td>0.0</td>\n",
       "      <td>19492.43</td>\n",
       "      <td>20.0</td>\n",
       "    </tr>\n",
       "    <tr>\n",
       "      <th>2291</th>\n",
       "      <td>1499</td>\n",
       "      <td>surf</td>\n",
       "      <td>11</td>\n",
       "      <td>45.0</td>\n",
       "      <td>308.0</td>\n",
       "      <td>0.0</td>\n",
       "      <td>16813.83</td>\n",
       "      <td>17.0</td>\n",
       "    </tr>\n",
       "    <tr>\n",
       "      <th>2292</th>\n",
       "      <td>1499</td>\n",
       "      <td>surf</td>\n",
       "      <td>12</td>\n",
       "      <td>65.0</td>\n",
       "      <td>496.0</td>\n",
       "      <td>0.0</td>\n",
       "      <td>22059.21</td>\n",
       "      <td>22.0</td>\n",
       "    </tr>\n",
       "  </tbody>\n",
       "</table>\n",
       "<p>2293 rows × 8 columns</p>\n",
       "</div>"
      ],
      "text/plain": [
       "      user_id      plan  month  llamadas  minutos  mensajes  megabytes  \\\n",
       "0        1000  ultimate     12      16.0    124.0      11.0    1901.47   \n",
       "1        1001      surf      8      27.0    182.0      30.0    6919.15   \n",
       "2        1001      surf      9      49.0    315.0      44.0   13314.82   \n",
       "3        1001      surf     10      65.0    393.0      53.0   22330.49   \n",
       "4        1001      surf     11      64.0    426.0      36.0   18504.30   \n",
       "...       ...       ...    ...       ...      ...       ...        ...   \n",
       "2288     1498      surf     12      39.0    339.0       0.0   23137.69   \n",
       "2289     1499      surf      9      41.0    346.0       0.0   12984.76   \n",
       "2290     1499      surf     10      53.0    385.0       0.0   19492.43   \n",
       "2291     1499      surf     11      45.0    308.0       0.0   16813.83   \n",
       "2292     1499      surf     12      65.0    496.0       0.0   22059.21   \n",
       "\n",
       "      gigabytes  \n",
       "0           2.0  \n",
       "1           7.0  \n",
       "2          14.0  \n",
       "3          22.0  \n",
       "4          19.0  \n",
       "...         ...  \n",
       "2288       23.0  \n",
       "2289       13.0  \n",
       "2290       20.0  \n",
       "2291       17.0  \n",
       "2292       22.0  \n",
       "\n",
       "[2293 rows x 8 columns]"
      ]
     },
     "metadata": {},
     "output_type": "display_data"
    }
   ],
   "source": [
    "# Fusiona los datos de llamadas, minutos, mensajes e Internet con base en user_id y month\n",
    "## Aplicamos un outer merge:\n",
    "fusion1 = pd.merge(calls_recount, messages_recount, left_index=True, right_index=True, how = 'outer')\n",
    "#display(fusion1)\n",
    "consumo_mensual = pd.merge(fusion1, internet_recount, left_index=True, right_index=True, how = 'outer')\n",
    "consumo_mensual = consumo_mensual.reset_index()\n",
    "#display(consumo_mensual)\n",
    "\n",
    "# Añadimos información del plan de la tabla users\n",
    "consumo_mensual_plan = users[['user_id','plan']].merge(consumo_mensual, on='user_id', how='right')\n",
    "#display(consumo_mensual_plan)\n",
    "\n",
    "## Llenamos los nan con 0, pues en esas celdas, los clientes no usaron minutos/mensajes/internet\n",
    "consumo_mensual_plan.fillna(0, inplace=True)\n",
    "display(consumo_mensual_plan)"
   ]
  },
  {
   "cell_type": "markdown",
   "metadata": {
    "id": "1IwGo4wg0q1I"
   },
   "source": [
    "Finalmente, se calculan los ingresos mensuales por usuario.\n",
    "Para ello debemos calcular los costos por minutos extra, gb extra y mensajes extra que deben pagar los usuarios (si es que se excedieron de su plan) de acuerdo a las cuotas de cada plan. \n",
    "A estos costos hay que sumarle la cuota mensual del plan para obtener la cuota total a pagar por usuario."
   ]
  },
  {
   "cell_type": "code",
   "execution_count": 26,
   "metadata": {
    "id": "5FGCf_c60q1I",
    "scrolled": false
   },
   "outputs": [
    {
     "name": "stdout",
     "output_type": "stream",
     "text": [
      "566  personas excedieron su plan de minutos\n",
      "340  personas excedieron su plan de mensajes\n",
      "952  personas excedieron su plan de gigas\n"
     ]
    },
    {
     "data": {
      "text/html": [
       "<div>\n",
       "<style scoped>\n",
       "    .dataframe tbody tr th:only-of-type {\n",
       "        vertical-align: middle;\n",
       "    }\n",
       "\n",
       "    .dataframe tbody tr th {\n",
       "        vertical-align: top;\n",
       "    }\n",
       "\n",
       "    .dataframe thead th {\n",
       "        text-align: right;\n",
       "    }\n",
       "</style>\n",
       "<table border=\"1\" class=\"dataframe\">\n",
       "  <thead>\n",
       "    <tr style=\"text-align: right;\">\n",
       "      <th></th>\n",
       "      <th>user_id</th>\n",
       "      <th>plan_name</th>\n",
       "      <th>month</th>\n",
       "      <th>llamadas</th>\n",
       "      <th>minutos</th>\n",
       "      <th>mensajes</th>\n",
       "      <th>extra_minutos</th>\n",
       "      <th>extra_mensajes</th>\n",
       "      <th>extra_gigas</th>\n",
       "      <th>cargo_total</th>\n",
       "    </tr>\n",
       "  </thead>\n",
       "  <tbody>\n",
       "    <tr>\n",
       "      <th>0</th>\n",
       "      <td>1000</td>\n",
       "      <td>ultimate</td>\n",
       "      <td>12</td>\n",
       "      <td>16.0</td>\n",
       "      <td>124.0</td>\n",
       "      <td>11.0</td>\n",
       "      <td>0.0</td>\n",
       "      <td>0.00</td>\n",
       "      <td>0.0</td>\n",
       "      <td>70.00</td>\n",
       "    </tr>\n",
       "    <tr>\n",
       "      <th>1</th>\n",
       "      <td>1001</td>\n",
       "      <td>surf</td>\n",
       "      <td>8</td>\n",
       "      <td>27.0</td>\n",
       "      <td>182.0</td>\n",
       "      <td>30.0</td>\n",
       "      <td>0.0</td>\n",
       "      <td>0.00</td>\n",
       "      <td>0.0</td>\n",
       "      <td>20.00</td>\n",
       "    </tr>\n",
       "    <tr>\n",
       "      <th>2</th>\n",
       "      <td>1001</td>\n",
       "      <td>surf</td>\n",
       "      <td>9</td>\n",
       "      <td>49.0</td>\n",
       "      <td>315.0</td>\n",
       "      <td>44.0</td>\n",
       "      <td>0.0</td>\n",
       "      <td>0.00</td>\n",
       "      <td>0.0</td>\n",
       "      <td>20.00</td>\n",
       "    </tr>\n",
       "    <tr>\n",
       "      <th>3</th>\n",
       "      <td>1001</td>\n",
       "      <td>surf</td>\n",
       "      <td>10</td>\n",
       "      <td>65.0</td>\n",
       "      <td>393.0</td>\n",
       "      <td>53.0</td>\n",
       "      <td>0.0</td>\n",
       "      <td>0.09</td>\n",
       "      <td>70.0</td>\n",
       "      <td>90.09</td>\n",
       "    </tr>\n",
       "    <tr>\n",
       "      <th>4</th>\n",
       "      <td>1001</td>\n",
       "      <td>surf</td>\n",
       "      <td>11</td>\n",
       "      <td>64.0</td>\n",
       "      <td>426.0</td>\n",
       "      <td>36.0</td>\n",
       "      <td>0.0</td>\n",
       "      <td>0.00</td>\n",
       "      <td>40.0</td>\n",
       "      <td>60.00</td>\n",
       "    </tr>\n",
       "    <tr>\n",
       "      <th>...</th>\n",
       "      <td>...</td>\n",
       "      <td>...</td>\n",
       "      <td>...</td>\n",
       "      <td>...</td>\n",
       "      <td>...</td>\n",
       "      <td>...</td>\n",
       "      <td>...</td>\n",
       "      <td>...</td>\n",
       "      <td>...</td>\n",
       "      <td>...</td>\n",
       "    </tr>\n",
       "    <tr>\n",
       "      <th>2288</th>\n",
       "      <td>1498</td>\n",
       "      <td>surf</td>\n",
       "      <td>12</td>\n",
       "      <td>39.0</td>\n",
       "      <td>339.0</td>\n",
       "      <td>0.0</td>\n",
       "      <td>0.0</td>\n",
       "      <td>0.00</td>\n",
       "      <td>80.0</td>\n",
       "      <td>100.00</td>\n",
       "    </tr>\n",
       "    <tr>\n",
       "      <th>2289</th>\n",
       "      <td>1499</td>\n",
       "      <td>surf</td>\n",
       "      <td>9</td>\n",
       "      <td>41.0</td>\n",
       "      <td>346.0</td>\n",
       "      <td>0.0</td>\n",
       "      <td>0.0</td>\n",
       "      <td>0.00</td>\n",
       "      <td>0.0</td>\n",
       "      <td>20.00</td>\n",
       "    </tr>\n",
       "    <tr>\n",
       "      <th>2290</th>\n",
       "      <td>1499</td>\n",
       "      <td>surf</td>\n",
       "      <td>10</td>\n",
       "      <td>53.0</td>\n",
       "      <td>385.0</td>\n",
       "      <td>0.0</td>\n",
       "      <td>0.0</td>\n",
       "      <td>0.00</td>\n",
       "      <td>50.0</td>\n",
       "      <td>70.00</td>\n",
       "    </tr>\n",
       "    <tr>\n",
       "      <th>2291</th>\n",
       "      <td>1499</td>\n",
       "      <td>surf</td>\n",
       "      <td>11</td>\n",
       "      <td>45.0</td>\n",
       "      <td>308.0</td>\n",
       "      <td>0.0</td>\n",
       "      <td>0.0</td>\n",
       "      <td>0.00</td>\n",
       "      <td>20.0</td>\n",
       "      <td>40.00</td>\n",
       "    </tr>\n",
       "    <tr>\n",
       "      <th>2292</th>\n",
       "      <td>1499</td>\n",
       "      <td>surf</td>\n",
       "      <td>12</td>\n",
       "      <td>65.0</td>\n",
       "      <td>496.0</td>\n",
       "      <td>0.0</td>\n",
       "      <td>0.0</td>\n",
       "      <td>0.00</td>\n",
       "      <td>70.0</td>\n",
       "      <td>90.00</td>\n",
       "    </tr>\n",
       "  </tbody>\n",
       "</table>\n",
       "<p>2293 rows × 10 columns</p>\n",
       "</div>"
      ],
      "text/plain": [
       "      user_id plan_name  month  llamadas  minutos  mensajes  extra_minutos  \\\n",
       "0        1000  ultimate     12      16.0    124.0      11.0            0.0   \n",
       "1        1001      surf      8      27.0    182.0      30.0            0.0   \n",
       "2        1001      surf      9      49.0    315.0      44.0            0.0   \n",
       "3        1001      surf     10      65.0    393.0      53.0            0.0   \n",
       "4        1001      surf     11      64.0    426.0      36.0            0.0   \n",
       "...       ...       ...    ...       ...      ...       ...            ...   \n",
       "2288     1498      surf     12      39.0    339.0       0.0            0.0   \n",
       "2289     1499      surf      9      41.0    346.0       0.0            0.0   \n",
       "2290     1499      surf     10      53.0    385.0       0.0            0.0   \n",
       "2291     1499      surf     11      45.0    308.0       0.0            0.0   \n",
       "2292     1499      surf     12      65.0    496.0       0.0            0.0   \n",
       "\n",
       "      extra_mensajes  extra_gigas  cargo_total  \n",
       "0               0.00          0.0        70.00  \n",
       "1               0.00          0.0        20.00  \n",
       "2               0.00          0.0        20.00  \n",
       "3               0.09         70.0        90.09  \n",
       "4               0.00         40.0        60.00  \n",
       "...              ...          ...          ...  \n",
       "2288            0.00         80.0       100.00  \n",
       "2289            0.00          0.0        20.00  \n",
       "2290            0.00         50.0        70.00  \n",
       "2291            0.00         20.0        40.00  \n",
       "2292            0.00         70.0        90.00  \n",
       "\n",
       "[2293 rows x 10 columns]"
      ]
     },
     "metadata": {},
     "output_type": "display_data"
    }
   ],
   "source": [
    "# Calcula el ingreso mensual para cada usuario\n",
    "ingreso_mensual = plans.merge(consumo_mensual_plan,\n",
    "                              left_on='plan_name',\n",
    "                              right_on='plan', how='right')\n",
    "ingreso_mensual.drop('plan', axis='columns', inplace = True)\n",
    "#display(ingreso_mensual)\n",
    "\n",
    "# Cambiamos la unidad de medida de mb_per_month_included a gb_per_month_included:\n",
    "ingreso_mensual['mb_per_month_included'] = ingreso_mensual['mb_per_month_included']/1024\n",
    "ingreso_mensual.rename(columns = {'mb_per_month_included': 'gb_per_month_included'}, inplace = True)\n",
    "#display(ingreso_mensual)\n",
    "\n",
    "# Contabilizamos el excedente de minutos a lo largo del mes:\n",
    "def exceso_minutos(fila):\n",
    "    if fila['minutes_included'] >= fila['minutos']:\n",
    "        return 0\n",
    "    else:\n",
    "        exceso_minutos = fila['minutos']-fila['minutes_included'] # Cuantos minutos se excedió el cliente del plan\n",
    "        return exceso_minutos* fila['usd_per_minute'] # costo extra por los minutos excedidos\n",
    "ingreso_mensual['extra_minutos']= ingreso_mensual.apply(exceso_minutos, axis = 1) # Aplicamos la función\n",
    "print(ingreso_mensual[ingreso_mensual['extra_minutos']>0]['extra_minutos'].count(),' personas excedieron su plan de minutos')\n",
    "\n",
    "# Contabilizamos el excedente de mensajes a lo largo del mes:\n",
    "def exceso_mensajes(fila):\n",
    "    if fila['messages_included'] >= fila['mensajes']:\n",
    "        return 0\n",
    "    else:\n",
    "        exceso_mensajes = fila['mensajes']-fila['messages_included'] # Cuantos mensajes se excedió el cliente del plan\n",
    "        return exceso_mensajes* fila['usd_per_message'] # costo extra por los mensajes excedidos\n",
    "ingreso_mensual['extra_mensajes']= ingreso_mensual.apply(exceso_mensajes, axis = 1) # Aplicamos la función\n",
    "print(ingreso_mensual[ingreso_mensual['extra_mensajes']>0]['extra_mensajes'].count(),' personas excedieron su plan de mensajes')\n",
    "\n",
    "# Contabilizamos el excedente de gigas a lo largo del mes:\n",
    "def exceso_gigas(fila):\n",
    "    if fila['gb_per_month_included'] >= fila['gigabytes']:\n",
    "        return 0\n",
    "    else:\n",
    "        exceso_gigas = fila['gigabytes']-fila['gb_per_month_included'] # Cuantos gigas se excedió el cliente del plan\n",
    "        return exceso_gigas* fila['usd_per_gb'] # costo extra por los gigas excedidos\n",
    "ingreso_mensual['extra_gigas']= ingreso_mensual.apply(exceso_gigas, axis = 1) # Aplicamos la función\n",
    "print(ingreso_mensual[ingreso_mensual['extra_gigas']>0]['extra_mensajes'].count(),' personas excedieron su plan de gigas')\n",
    "#display(ingreso_mensual)\n",
    "\n",
    "# La cuenta total del usuario será. la Cuota mensual del plan + minutos extra + gb extra + mensajes extra\n",
    "ingreso_mensual['cargo_total'] = ingreso_mensual['usd_monthly_pay'] + ingreso_mensual['extra_minutos']+ ingreso_mensual['extra_mensajes']+ ingreso_mensual['extra_gigas']\n",
    "#display(ingreso_mensual)\n",
    "\n",
    "# Creamos tabla de ingreso mensual por usuarios:\n",
    "ingreso_mensual_usuarios = ingreso_mensual[['user_id','plan_name','month','llamadas','minutos','mensajes','extra_minutos','extra_mensajes', 'extra_gigas', 'cargo_total']] \n",
    "display(ingreso_mensual_usuarios)"
   ]
  },
  {
   "cell_type": "markdown",
   "metadata": {},
   "source": [
    "<div class=\"alert alert-block alert-success\">\n",
    "<b>Comentario revisor</b> <a class=\"tocSkip\"></a>\n",
    "\n",
    "Resultado Correcto y todo el procedimiento ok ! \n",
    "</div>"
   ]
  },
  {
   "cell_type": "markdown",
   "metadata": {
    "id": "-jtyHzJb0q1I"
   },
   "source": [
    "## Estudia el comportamiento de usuario"
   ]
  },
  {
   "cell_type": "markdown",
   "metadata": {
    "id": "AxU3Y0N70q1J"
   },
   "source": [
    "A continuación, se calculan algunas estadísticas descriptivas por tarifa para los datos anteriores y se dibujarán gráficos útiles para la comprensión. Esto nos permitirá comparar las tarifas y decidir cuál es más rentable,"
   ]
  },
  {
   "cell_type": "markdown",
   "metadata": {
    "id": "vtW4CJEe0q1J"
   },
   "source": [
    "### Llamadas"
   ]
  },
  {
   "cell_type": "code",
   "execution_count": 27,
   "metadata": {
    "id": "Jf5v5--k0q1J"
   },
   "outputs": [
    {
     "data": {
      "text/plain": [
       "<Figure size 432x288 with 0 Axes>"
      ]
     },
     "metadata": {},
     "output_type": "display_data"
    },
    {
     "data": {
      "image/png": "[encoded data removed]",
      "text/plain": [
       "<Figure size 432x288 with 1 Axes>"
      ]
     },
     "metadata": {
      "needs_background": "light"
     },
     "output_type": "display_data"
    }
   ],
   "source": [
    "# Se compara la duración promedio de llamadas por cada plan y por cada mes.\n",
    "## Fusionar users en calls mediante user_id. \n",
    "#print(calls.info())\n",
    "\n",
    "duracion_llamadas = calls.merge(users[['user_id','plan']],\n",
    "                                on = 'user_id',\n",
    "                                how = 'inner')\n",
    "#display(duracion_llamadas)\n",
    "\n",
    "## Comparamos la duración promedio de llamadas por cada plan y por cada mes:\n",
    "duracion_llamadas_plan = duracion_llamadas.pivot_table(\n",
    "                                                        index='month',\n",
    "                                                        columns='plan',\n",
    "                                                        values='duration',\n",
    "                                                        aggfunc='mean'\n",
    "                                                       ).reset_index()\n",
    "#display(duracion_llamadas_plan)\n",
    "plt.figure(1)\n",
    "duracion_llamadas_plan.plot(x='month', kind='bar')\n",
    "plt.title('Duración promedio de las llamadas por cada mes y por cada plan')\n",
    "plt.xlabel('Mes')\n",
    "plt.ylabel('Duración promedio (minutos)')\n",
    "plt.ylim([0,10])\n",
    "plt.show()"
   ]
  },
  {
   "cell_type": "code",
   "execution_count": 28,
   "metadata": {
    "id": "QoLqW1S_0q1J"
   },
   "outputs": [
    {
     "data": {
      "image/png": "[encoded data removed]",
      "text/plain": [
       "<Figure size 432x288 with 1 Axes>"
      ]
     },
     "metadata": {
      "needs_background": "light"
     },
     "output_type": "display_data"
    }
   ],
   "source": [
    "# Se compara el número de minutos mensuales que necesitan los usuarios de cada plan.\n",
    "plt.figure(2)\n",
    "# Trazamos el histograma del plan surf:\n",
    "minutos_surf = duracion_llamadas[(duracion_llamadas['plan'] == 'surf') & (duracion_llamadas['duration'] != 0)]\n",
    "minutos_surf['duration'].plot(kind='hist',\n",
    "                              bins=50,\n",
    "                              alpha = 0.8,\n",
    "                              label = 'surf'\n",
    "                             )\n",
    "\n",
    "# Trazamos el histograma del plan ultimate:\n",
    "minutos_ultimate = duracion_llamadas[(duracion_llamadas['plan'] == 'ultimate') & (duracion_llamadas['duration'] != 0)]\n",
    "minutos_ultimate['duration'].plot(kind='hist',\n",
    "                                  bins=50, \n",
    "                                  alpha=0.8,\n",
    "                                  label = 'ultimate'\n",
    "                                 )\n",
    "plt.title('Número de Minutos Mensuales que Ocupan los Usuarios de cada Plan')\n",
    "plt.xlabel('Minutos Mensuales')\n",
    "plt.legend()\n",
    "plt.show()\n",
    "\n",
    "# NOTA: En el histograma eliminamos aquellos datos donde la duración era 0, ya que representaba un pico muy grande en los datos \n",
    "# y puede corresponder a clientes que aún o habían contratado algun plan o se habían dado de baja."
   ]
  },
  {
   "cell_type": "code",
   "execution_count": 29,
   "metadata": {
    "id": "oSndbAnt0q1K"
   },
   "outputs": [
    {
     "name": "stdout",
     "output_type": "stream",
     "text": [
      "Media del plan surf:      8.391096643251577\n",
      "Media del plan ultimate:  8.350246116948378\n",
      "\n",
      "\n",
      "Varianza del plan surf:      28.72689751108129\n",
      "Varianza del plan ultimate:  28.54918098099794\n"
     ]
    }
   ],
   "source": [
    "# Calcula la media y la varianza de la duración mensual de llamadas.\n",
    "## Calculamos la media y la varianza de ambos planes para averiguar si los usuarios se comportan diferente segun el plan:\n",
    "print('Media del plan surf:     ', minutos_surf['duration'].mean())\n",
    "print('Media del plan ultimate: ', minutos_ultimate['duration'].mean())\n",
    "print('\\n')\n",
    "print('Varianza del plan surf:     ', np.var(minutos_surf['duration']))\n",
    "print('Varianza del plan ultimate: ', np.var(minutos_ultimate['duration']))"
   ]
  },
  {
   "cell_type": "code",
   "execution_count": 30,
   "metadata": {
    "id": "nZzoRUKc0q1K"
   },
   "outputs": [
    {
     "data": {
      "text/plain": [
       "<Figure size 432x288 with 0 Axes>"
      ]
     },
     "metadata": {},
     "output_type": "display_data"
    },
    {
     "data": {
      "image/png": "[encoded data removed]",
      "text/plain": [
       "<Figure size 1440x288 with 2 Axes>"
      ]
     },
     "metadata": {
      "needs_background": "light"
     },
     "output_type": "display_data"
    }
   ],
   "source": [
    "# Con undiagrama de caja, visualizamos la distribución de la duración mensual de llamadas\n",
    "plt.figure(3)\n",
    "plt.figure(figsize=(20, 4))\n",
    "\n",
    "plt.subplot(121)\n",
    "sns.boxplot(x = minutos_surf['duration'])\n",
    "plt.title('Distribución de la Duración de las Llamadas para el Plan \"Surf\" ')\n",
    "plt.xlabel('Duración de las llamadas (minutos)')\n",
    "\n",
    "plt.subplot(122)\n",
    "sns.boxplot(x = minutos_ultimate['duration'])\n",
    "plt.title('Distribución de la Duración de las Llamadas para el Plan \"Ultimate\" ')\n",
    "plt.xlabel('Duración de las llamadas (minutos)')\n",
    "plt.show()"
   ]
  },
  {
   "cell_type": "markdown",
   "metadata": {
    "id": "r627zBO50q1K"
   },
   "source": [
    "Podemos ver que los usuarios de ambos planes tienen comportamientos similares en las llamadas. Ambos grupos de usuarios hacen llamadas con duración promedio de 6 minutos.\n",
    "Esto lo pordemos corroborar tambien con la distribución de la duración de las llamadas, pues las distribuciones son similares para ambos planes, aunque vemos que el plan surf tiene notablemente mas usuarios que el plan ultimate.\n",
    "\n",
    "En cuanto a la dispersión de los datos, vemos que ambos planes cuentan con unas medidas estructurales de dispersión también bastante similares\n"
   ]
  },
  {
   "cell_type": "markdown",
   "metadata": {
    "id": "8idKy8Wh0q1L"
   },
   "source": [
    "### Mensajes"
   ]
  },
  {
   "cell_type": "code",
   "execution_count": 31,
   "metadata": {},
   "outputs": [
    {
     "data": {
      "image/png": "[encoded data removed]",
      "text/plain": [
       "<Figure size 432x288 with 1 Axes>"
      ]
     },
     "metadata": {
      "needs_background": "light"
     },
     "output_type": "display_data"
    }
   ],
   "source": [
    "# Se compara el número de mensajes mensuales que tienden a enviar los usuarios de cada plan\n",
    "\n",
    "##  La tabla \"consumo_mensual_plan\" obtenida anteriormente ya contiene esa información en las columnas ['user_id','plan','month','mensajes']:\n",
    "mensajes_mensual_plan = consumo_mensual_plan[['user_id','plan','month','mensajes']]\n",
    "\n",
    "## Filtramos para visualizar el número de mensajes por plan\n",
    "numero_mensajes_surf = mensajes_mensual_plan[(mensajes_mensual_plan['plan']=='surf')&(mensajes_mensual_plan['mensajes']!=0)]\n",
    "numero_mensajes_ultimate = mensajes_mensual_plan[(mensajes_mensual_plan['plan']=='ultimate')&(mensajes_mensual_plan['mensajes']!=0)]\n",
    "# NOTA: En el histograma eliminamos aquellos datos donde el número de msjs era 0, ya que representaba un pico muy grande en los datos \n",
    "# y puede corresponder a clientes que aún o habían contratado algun plan o se habían dado de baja a lo largo del año.\n",
    "\n",
    "## Debido a la longitud de las columnas a graficar, conviene más hacer un histograma:\n",
    "#imprimimos los minimos y máximos para averiguar el numero adecuado de bins:\n",
    "#print(numero_mensajes_surf['mensajes'].min(),numero_mensajes_surf['mensajes'].max())\n",
    "#print(numero_mensajes_ultimate['mensajes'].min(),numero_mensajes_ultimate['mensajes'].max())\n",
    "## Hacemos el histograma con los datos de 'month' y 'mensajes' de las tablas anteriores.\n",
    "plt.figure(4)\n",
    "numero_mensajes_surf['mensajes'].plot(kind='hist',\n",
    "                                  bins=100, \n",
    "                                  alpha=0.8,\n",
    "                                  label = 'surf'\n",
    "                                 )\n",
    "numero_mensajes_ultimate['mensajes'].plot(kind='hist',\n",
    "                                  bins=100, \n",
    "                                  alpha=0.8,\n",
    "                                  label = 'ultimate'\n",
    "                                 )\n",
    "plt.title('Número de Mensajes que Envían Mensualmente los Usuarios de cada Plan')\n",
    "plt.xlabel('Mensajes enviados al Mes')\n",
    "plt.legend()\n",
    "plt.show()\n"
   ]
  },
  {
   "cell_type": "code",
   "execution_count": 32,
   "metadata": {
    "id": "GRI_R7xF0q1L"
   },
   "outputs": [
    {
     "name": "stdout",
     "output_type": "stream",
     "text": [
      "Media de mensajes por mes del plan surf:      40.10965630114566\n",
      "Media de mensajes por mes del plan ultimate:  46.29623287671233\n",
      "\n",
      "\n",
      "Varianza del plan surf:      1090.4511506183685\n",
      "Varianza del plan ultimate:  1083.3249173156314\n"
     ]
    }
   ],
   "source": [
    "# Hacemos estadística descriptiva para los mensajes enviados por mes:\n",
    "## Calculamos la media y la varianza de ambos planes para averiguar si los usuarios se comportan diferente segun el plan:\n",
    "print('Media de mensajes por mes del plan surf:     ', numero_mensajes_surf['mensajes'].mean())\n",
    "print('Media de mensajes por mes del plan ultimate: ', numero_mensajes_ultimate['mensajes'].mean())\n",
    "print('\\n')\n",
    "print('Varianza del plan surf:     ', np.var(numero_mensajes_surf['mensajes']))\n",
    "print('Varianza del plan ultimate: ', np.var(numero_mensajes_ultimate['mensajes']))"
   ]
  },
  {
   "cell_type": "code",
   "execution_count": 33,
   "metadata": {},
   "outputs": [
    {
     "data": {
      "text/plain": [
       "<Figure size 432x288 with 0 Axes>"
      ]
     },
     "metadata": {},
     "output_type": "display_data"
    },
    {
     "data": {
      "image/png": "[encoded data removed]",
      "text/plain": [
       "<Figure size 1440x288 with 2 Axes>"
      ]
     },
     "metadata": {
      "needs_background": "light"
     },
     "output_type": "display_data"
    }
   ],
   "source": [
    "# Analizamos la dispersión de los datos.\n",
    "plt.figure(5)\n",
    "plt.figure(figsize=(20, 4))\n",
    "\n",
    "plt.subplot(121)\n",
    "sns.boxplot(x = numero_mensajes_surf['mensajes'])\n",
    "plt.title('Distribución del Número de Mensajes por Mes de Usuarios del Plan \"Surf\" ')\n",
    "plt.xlabel('Número de mensajes enviados')\n",
    "\n",
    "plt.subplot(122)\n",
    "sns.boxplot(x = numero_mensajes_ultimate['mensajes'])\n",
    "plt.title('Distribución del Número de Mensajes por Mes de Usuarios del Plan \"Ultimate\" ')\n",
    "plt.xlabel('Número de mensajes enviados')\n",
    "plt.show()"
   ]
  },
  {
   "cell_type": "markdown",
   "metadata": {
    "id": "390SSL480q1M"
   },
   "source": [
    "Vemos que los dos planes distintos que ofrece la compañia, la mayoría de usuarios tiende a enviar menos de 50 mensajes al mes, sin importar que el plan ultimate ofrezca 1000 mensajes al mes, pues en realidad, pocos son los usuarios que superan los 250 mensajes al mes.\n",
    "La media de mensajes mensuales para ambos planes cae alrededor de los 45 mensajes al mes en ambos casos; en ambas distribuciones, las varianzas tambien son casi iguales, haciendo que las distribuciones sean muy similares y por lo tanto, que también lo sea el comportamiento de los usuarios sin importar el plan. Sin embargo, en los boxplots podemos ver que el plan surf presenta algunos valores atípicos más alejados. Para los usuarios que caigan en esa región, el plan ultimate cubriria mejor sus necesidades de mensajes"
   ]
  },
  {
   "cell_type": "markdown",
   "metadata": {
    "id": "42YSypXz0q1M"
   },
   "source": [
    "### Internet"
   ]
  },
  {
   "cell_type": "code",
   "execution_count": 34,
   "metadata": {
    "id": "lSuKPtjh0q1M"
   },
   "outputs": [
    {
     "data": {
      "image/png": "[encoded data removed]",
      "text/plain": [
       "<Figure size 1440x720 with 2 Axes>"
      ]
     },
     "metadata": {
      "needs_background": "light"
     },
     "output_type": "display_data"
    }
   ],
   "source": [
    "# Se compara la cantidad de tráfico de Internet consumido por usuarios por plan\n",
    "\n",
    "## La tabla consumo_mensual_plan ya contienen esos datos en las columnas:\n",
    "internet_mensual_plan = consumo_mensual_plan[['user_id', 'plan', 'month', 'gigabytes']]\n",
    "## Filtramos para obtener el trafico mensual de internet usado por los usuarios\n",
    "internet_mensual_surf = internet_mensual_plan[(internet_mensual_plan['plan']=='surf')]\n",
    "internet_mensual_ultimate = internet_mensual_plan[(internet_mensual_plan['plan']=='ultimate')]\n",
    "# display(internet_mensual_plan)\n",
    "\n",
    "## Hacemos una gráfica de barras.\n",
    "plt.figure(6, figsize=(20, 10))\n",
    "plt.subplot(211)\n",
    "internet_mensual_surf['gigabytes'].value_counts().sort_index().plot(kind='bar')\n",
    "plt.title('Tráfico de Internet Consumido por Usuarios del plan \"surf\"')\n",
    "plt.xlabel('Gigabytes')\n",
    "plt.ylabel('Frecuencia')\n",
    "\n",
    "plt.subplot(212)\n",
    "internet_mensual_ultimate['gigabytes'].value_counts().sort_index().plot(kind='bar')\n",
    "plt.title('Tráfico de Internet Consumido por Usuarios del plan \"ultimate\"')\n",
    "plt.xlabel('Gigabytes')\n",
    "plt.ylabel('Frecuencia')\n",
    "plt.subplots_adjust(hspace=0.5)\n",
    "plt.show()\n"
   ]
  },
  {
   "cell_type": "code",
   "execution_count": 35,
   "metadata": {
    "id": "wnh8jYXi0q1N"
   },
   "outputs": [
    {
     "name": "stdout",
     "output_type": "stream",
     "text": [
      "Media de tráfico de internet del plan surf:      16.670692943420217\n",
      "Media de tráfico de internet del plan ultimate:  17.306944444444444\n",
      "\n",
      "\n",
      "Varianza del plan surf:      61.54444942447024\n",
      "Varianza del plan ultimate:  58.748840663580246\n"
     ]
    }
   ],
   "source": [
    "# Hacemos estadística descriptiva para los mensajes enviados por mes:\n",
    "## Calculamos la media y la varianza de ambos planes para averiguar si los usuarios se comportan diferente segun el plan:\n",
    "print('Media de tráfico de internet del plan surf:     ', internet_mensual_surf['gigabytes'].mean())\n",
    "print('Media de tráfico de internet del plan ultimate: ', internet_mensual_ultimate['gigabytes'].mean())\n",
    "print('\\n')\n",
    "print('Varianza del plan surf:     ', np.var(internet_mensual_surf['gigabytes']))\n",
    "print('Varianza del plan ultimate: ', np.var(internet_mensual_ultimate['gigabytes']))"
   ]
  },
  {
   "cell_type": "code",
   "execution_count": 36,
   "metadata": {
    "id": "5VlyJ9ry0q1N"
   },
   "outputs": [
    {
     "data": {
      "text/plain": [
       "<Figure size 432x288 with 0 Axes>"
      ]
     },
     "metadata": {},
     "output_type": "display_data"
    },
    {
     "data": {
      "image/png": "[encoded data removed]",
      "text/plain": [
       "<Figure size 1440x288 with 2 Axes>"
      ]
     },
     "metadata": {
      "needs_background": "light"
     },
     "output_type": "display_data"
    }
   ],
   "source": [
    "# Analizamos la dispersión de los datos.\n",
    "plt.figure(7)\n",
    "plt.figure(figsize=(20, 4))\n",
    "\n",
    "plt.subplot(121)\n",
    "sns.boxplot(x = internet_mensual_surf['gigabytes'])\n",
    "plt.title('Distribución del Tráfico Mensual de Internet de Usuarios del Plan \"Surf\"')\n",
    "plt.xlabel('Gigabytes')\n",
    "\n",
    "plt.subplot(122)\n",
    "sns.boxplot(x = internet_mensual_ultimate['gigabytes'])\n",
    "plt.title('Distribución del Tráfico Mensual de Internet de Usuarios del Plan \"Ultimate\"')\n",
    "plt.xlabel('Gigabytes')\n",
    "plt.show()"
   ]
  },
  {
   "cell_type": "markdown",
   "metadata": {
    "id": "UN9zwuMP0q1N"
   },
   "source": [
    "Para ambos planes se cumple que la media de tráfico de internet consumido es de 17 gb mensuales, sin importar el plan.\n",
    "Esto podría representar un problema para los usuarios del plan surf, pues, de consumir el trafico promedio, los usuarios se verian en la necesidad de pagar un monto extra, ya que su plan solo cubre 15 gb.\n",
    "\n",
    "Y gracias a los boxplots, vemos que este comportamiento es muy común en los usuarios del plan surf, pues los datos estan mas dispersos.\n",
    "\n"
   ]
  },
  {
   "cell_type": "markdown",
   "metadata": {
    "id": "tCijq3260q1N"
   },
   "source": [
    "## Ingreso"
   ]
  },
  {
   "cell_type": "code",
   "execution_count": 37,
   "metadata": {
    "id": "tz-dq_V00q1O",
    "scrolled": false
   },
   "outputs": [
    {
     "data": {
      "image/png": "[encoded data removed]",
      "text/plain": [
       "<Figure size 1440x720 with 2 Axes>"
      ]
     },
     "metadata": {
      "needs_background": "light"
     },
     "output_type": "display_data"
    }
   ],
   "source": [
    "# Analizamos el gasto mensual que tienen los clientes para cada plan.\n",
    "## La tabla ingreso_mensual_usuarios ya contienen esos datos en las columnas:\n",
    "#display(ingreso_mensual_usuarios)\n",
    "\n",
    "## Filtramos para obtener el ingreso mensual de ambos planes.\n",
    "ingreso_mensual_surf = ingreso_mensual_usuarios[(ingreso_mensual_usuarios['plan_name']=='surf')]\n",
    "ingreso_mensual_ultimate = ingreso_mensual_usuarios[(ingreso_mensual_usuarios['plan_name']=='ultimate')]\n",
    "#display(ingreso_mensual_surf['cargo_total'].max())\n",
    "#display(ingreso_mensual_ultimate['cargo_total'].min())\n",
    "\n",
    "# La columna 'cargo_total' tiene el gasto de cada cliente y por lo tanto, la ganancia total de la empresa:\n",
    "plt.figure(8, figsize=(20,10))\n",
    "plt.subplot(2,1,1)\n",
    "plt.hist(ingreso_mensual_surf['cargo_total'], bins=10, edgecolor='black') \n",
    "plt.title('Ganancia que recibe la empresa por usuarios del plan \"surf\"')\n",
    "plt.ylabel('Frecuencia')\n",
    "plt.xlabel('Ganancia por usuario (USD)')\n",
    "\n",
    "plt.subplot(2,1,2)\n",
    "plt.hist(ingreso_mensual_ultimate['cargo_total'], bins=5, edgecolor='black') \n",
    "plt.title('Ganancia que recibe la empresa por usuarios del plan \"ultimate\"')\n",
    "plt.ylabel('Frecuencia')\n",
    "plt.xlabel('Ganancia por usuario (USD)')\n",
    "plt.subplots_adjust(hspace=0.5)\n",
    "plt.show()"
   ]
  },
  {
   "cell_type": "code",
   "execution_count": 38,
   "metadata": {
    "id": "0Y1v8ZUz0q1P"
   },
   "outputs": [
    {
     "name": "stdout",
     "output_type": "stream",
     "text": [
      "Media de ganancia mensual por usuarios del plan surf:      60.706408137317226\n",
      "Media de ganancia mensual por usuarios del plan ultimate:  72.31388888888888\n",
      "\n",
      "\n",
      "Varianza de las ganancias por usuario del plan surf:      3065.8848438690247\n",
      "Varianza de las ganancias por usuario del plan ultimate:      129.66814043209877\n"
     ]
    }
   ],
   "source": [
    "# Obtenemos las medidas de estadística descriptiva de los ingresos.\n",
    "## Calculamos la media y la varianza de las ganancias de ambos planes\n",
    "   #para averiguar si los usuarios se comportan diferente segun el plan:\n",
    "print('Media de ganancia mensual por usuarios del plan surf:     ', ingreso_mensual_surf['cargo_total'].mean())\n",
    "print('Media de ganancia mensual por usuarios del plan ultimate: ', ingreso_mensual_ultimate['cargo_total'].mean())\n",
    "print('\\n')\n",
    "print('Varianza de las ganancias por usuario del plan surf:     ', np.var(ingreso_mensual_surf['cargo_total']))\n",
    "print('Varianza de las ganancias por usuario del plan ultimate:     ', np.var(ingreso_mensual_ultimate['cargo_total']))"
   ]
  },
  {
   "cell_type": "code",
   "execution_count": 39,
   "metadata": {
    "id": "bYmwxyVh0q1P"
   },
   "outputs": [
    {
     "data": {
      "text/plain": [
       "<Figure size 432x288 with 0 Axes>"
      ]
     },
     "metadata": {},
     "output_type": "display_data"
    },
    {
     "data": {
      "image/png": "[encoded data removed]",
      "text/plain": [
       "<Figure size 1440x288 with 2 Axes>"
      ]
     },
     "metadata": {
      "needs_background": "light"
     },
     "output_type": "display_data"
    }
   ],
   "source": [
    "# Analizamos la dispersión de los datos\n",
    "plt.figure(9)\n",
    "plt.figure(figsize=(20, 4))\n",
    "\n",
    "plt.subplot(121)\n",
    "sns.boxplot(x = ingreso_mensual_surf['cargo_total'])\n",
    "plt.title('Distribución de la ganancia por usuarios del Plan \"Surf\"')\n",
    "plt.xlabel('Ganancia por usuario (USD)')\n",
    "\n",
    "plt.subplot(122)\n",
    "sns.boxplot(x = ingreso_mensual_ultimate['cargo_total'])\n",
    "plt.title('Distribución de la ganancia por usuarios del Plan \"ultimate\"')\n",
    "plt.xlabel('Ganancia por usuario (USD)')\n",
    "plt.show()"
   ]
  },
  {
   "cell_type": "markdown",
   "metadata": {
    "id": "KAFidcXZ0q1P"
   },
   "source": [
    "Vemos una clara diferencia en los ingresos que obtiene la empresa segun el plan, pues mientras que los usuarios del plan ultimate poca dispersión y una media cercana a la tarifa del plan, los usuarios de surf tienen una media 60.7, es decir, pagan mas por servicios extra (ya sea minutos, mensajes o gigabytes).\n",
    "\n",
    "Los valores atipicos en los boxplots confirman la gran dispersión que se presenta en el plan surf, lo cual contrasta con la poca varianza del plan ultimate y los pocos valores atípicos del mismo"
   ]
  },
  {
   "cell_type": "markdown",
   "metadata": {
    "id": "ajJ7VKeI0q1Q"
   },
   "source": [
    "## Prueba las hipótesis estadísticas"
   ]
  },
  {
   "cell_type": "markdown",
   "metadata": {
    "id": "AdXAZ-yL0q1Q"
   },
   "source": [
    "Para verificar que, en efecto, los ingresos promedio obtenidos por plan son diferentes se hará una prueba de hipótesis. "
   ]
  },
  {
   "cell_type": "code",
   "execution_count": 40,
   "metadata": {
    "id": "nFoPNlPq0q1R"
   },
   "outputs": [
    {
     "name": "stdout",
     "output_type": "stream",
     "text": [
      "Los valores de ingresos promedio son:\n",
      "-> Media de ganancia mensual por usuarios del plan surf:      60.706408137317226\n",
      "-> Media de ganancia mensual por usuarios del plan ultimate:  72.31388888888888\n",
      "\n",
      " -------------------- Prueba de hipótesis --------------------\n",
      "Valor p:  2.862674510698644e-08\n",
      "Rechazamos la hipótesis nula, por lo tanto, las ganancias SON diferentes de acuerdo al plan.\n"
     ]
    }
   ],
   "source": [
    "# Suponemos entonces que nuestra hipótesis nula es que \"no hay diferencia entre los ingresos promedio de los planes\".\n",
    "print('Los valores de ingresos promedio son:')\n",
    "print('-> Media de ganancia mensual por usuarios del plan surf:     ', ingreso_mensual_surf['cargo_total'].mean())\n",
    "print('-> Media de ganancia mensual por usuarios del plan ultimate: ', ingreso_mensual_ultimate['cargo_total'].mean())\n",
    "print('\\n','-'*20, 'Prueba de hipótesis', '-'*20)\n",
    "# Hacemos una prueba de Hipótesis sobre la igualdad de las medias de dos poblaciones independientes:\n",
    "alpha = 0.05 # Proponemos un valor de significancia del 5%\n",
    "results = st.ttest_ind(ingreso_mensual_surf['cargo_total'], ingreso_mensual_ultimate['cargo_total']) \n",
    "\n",
    "print('Valor p: ', results.pvalue) # se extrae el valor p\n",
    "\n",
    "if results.pvalue < alpha: # Se compara el valor p con el umbral alpha\n",
    "    print(\"Rechazamos la hipótesis nula, por lo tanto, las ganancias SON diferentes de acuerdo al plan.\")\n",
    "else:\n",
    "    print(\"No podemos rechazar la hipótesis nula.\")\n"
   ]
  },
  {
   "cell_type": "markdown",
   "metadata": {
    "id": "tCcAruM60q1R"
   },
   "source": [
    "Haremos otra prueba de hipótesis, esta vez para determinar si los ingresos promedio de una región específica (NY-NJ), son distintos a los ingresos promedio de las otras regiones de la base de datos."
   ]
  },
  {
   "cell_type": "code",
   "execution_count": 41,
   "metadata": {
    "id": "Cqcj7wrZ0q1S"
   },
   "outputs": [
    {
     "name": "stdout",
     "output_type": "stream",
     "text": [
      "Longitud de la muestra de la región NY_NJ: 377\n",
      "Longitud de la muestra de las otras regiones: 1916\n",
      "\n",
      "Estos son los valores promedio que vamos a poner a prueba:\n",
      "-> Media de ganancia mensual para usuarios de región NY-NJ:      59.921352785145885\n",
      "-> Media de ganancia mensual para usuarios de otras regiones:    65.2227713987474\n",
      "\n",
      " -------------------- Prueba de hipótesis -------------------- \n",
      "\n",
      "Establecemos un nivel de significancia del 0.03, ya que la longitud de ambas muestras es un segmento muy pequeño de ambas poblaciones\n",
      "-------------------- original\n",
      "Valor p:  0.043557431621342436\n",
      "No podemos rechazar la hipótesis nula.\n",
      "\n",
      " -------------------- Con varianza distinta\n",
      "Valor p:  0.03352561588530014\n",
      "No podemos rechazar la hipótesis nula.\n"
     ]
    }
   ],
   "source": [
    "# A la tabla ingreso_mensual_usuarios fusionamos la información de la tabla users[['user_id','ny_nj']]:\n",
    "ingreso_mensual_regiones = ingreso_mensual_usuarios.merge(users[['user_id','ny_nj']], on='user_id', how='left')\n",
    "#display(ingreso_mensual_regiones)\n",
    "\n",
    "# ip_NY_NJ: base de datos para el ingreso promedio de los usuarios del área NY-NJ, \n",
    "ip_NY_NJ = ingreso_mensual_regiones[ingreso_mensual_regiones['ny_nj']==True]['cargo_total']\n",
    "print(f'Longitud de la muestra de la región NY_NJ: {len(ip_NY_NJ)}')\n",
    "ip_otras_reg = ingreso_mensual_regiones[ingreso_mensual_regiones['ny_nj']==False]['cargo_total']\n",
    "print(f'Longitud de la muestra de las otras regiones: {len(ip_otras_reg)}\\n')\n",
    "\n",
    "print('Estos son los valores promedio que vamos a poner a prueba:')\n",
    "print('-> Media de ganancia mensual para usuarios de región NY-NJ:     ', ip_NY_NJ.mean())\n",
    "print('-> Media de ganancia mensual para usuarios de otras regiones:   ', ip_otras_reg.mean())\n",
    "print('\\n','-'*20, 'Prueba de hipótesis', '-'*20, '\\n')\n",
    "\n",
    "# Nuestra hipótesis nula será que las medias de ambas poblaciones son iguales.\n",
    "# Nuevamente hacemos una prueba de hipotesis sobre igualdad de medias de 2 poblaciones independientes:\n",
    "print('Establecemos un nivel de significancia del 0.03, ya que la longitud de ambas muestras es un segmento muy pequeño de ambas poblaciones')\n",
    "alpha = 0.03\n",
    "\n",
    "print('-'*20, 'original')\n",
    "results = st.ttest_ind(ip_NY_NJ, ip_otras_reg) \n",
    "\n",
    "print('Valor p: ', results.pvalue) # se extrae el valor p\n",
    "\n",
    "if results.pvalue < alpha: # Se compara el valor p con el umbral alpha\n",
    "    print(\"Rechazamos la hipótesis nula, por lo tanto, las ganancias, en efecto, SON diferentes en la región NY-NJ\")\n",
    "else:\n",
    "    print(\"No podemos rechazar la hipótesis nula.\")\n",
    "\n",
    "print('\\n','-'*20, 'Con varianza distinta')\n",
    "results3 = st.ttest_ind(ip_NY_NJ, ip_otras_reg, equal_var = False) \n",
    "\n",
    "print('Valor p: ', results3.pvalue) # se extrae el valor p\n",
    "\n",
    "if results3.pvalue < alpha: # Se compara el valor p con el umbral alpha\n",
    "    print(\"Rechazamos la hipótesis nula, por lo tanto, las ganancias, en efecto, SON diferentes en la región NY-NJ\")\n",
    "else:\n",
    "    print(\"No podemos rechazar la hipótesis nula.\")"
   ]
  },
  {
   "cell_type": "markdown",
   "metadata": {},
   "source": [
    "<div class=\"alert alert-block alert-danger\">\n",
    "<b>Comentario revisor</b> <a class=\"tocSkip\"></a>\n",
    "\n",
    "Para este haz lo mismo de la hipotesis 1 con la condicon ny_nj. Resultado esperado no es posible rechazarlo</div> **HECHO** Si veo que esta bien el procedimiento debe ser una minuicidad.\n",
    "\n",
    "<div class=\"alert alert-block alert-info\">\n",
    "<b>Respuesta estudiante.</b> <a class=\"tocSkip\"></a>\n",
    "Hola Miguel. No me queda claro del todo cual puede ser el error que estoy cometiendo. \n",
    "En esta nueva versión intenté hacer la misma prueba individual, pero con el parámetro `equal_var = False`\n",
    "Además, cambié el nivel de significancia de 0.05 a 0.03, dado que el tamaño de las muestras es muy pequeño en comparacion a las poblaciones reales que pueden tener ambas regiones\n",
    "\n",
    "</div>"
   ]
  },
  {
   "cell_type": "markdown",
   "metadata": {
    "id": "bbTR8UQO0q1T"
   },
   "source": [
    "## Conclusión general\n",
    "\n",
    "1. Con el análisis estadístico del comportamiento de los usuarios en llamadas, mensajes e internet por planes, se concluye que.\n",
    "    - Para llamadas, en ambos planes el numero de llamadas mensuales promedio es alrededor de 6. La media de minutos mensuales es de alrededor de 8.3 y la varianza de alrededor de 28 en ambos casos.\n",
    "    - Para el envío de mensajes, el comportamiento de media y varianza es igualmente muy similar. Sin embargo, algunos usuarios del plan surf podemos considerarlos atípicos, pues envian muchos más mensajes de los que cubre su plan. A estos usuarios probablemente se les podría convencer de cambiar su plan a ultimate, o bien, adaptar el plan surf para cubrir las necesidades de estos usuarios.\n",
    "    - Para el uso de internet, vemos que no hay diferencia en el comportamiento de los usuarios, ambos grupos de usuarios usan alrededor de 17 GB mensuales y y el trafico de internet mensual tiene una varianza de alrededor de 60. Sin embargo, es evidente que para el plan surf, esta media supera a los datos incluidos en el plan, de modo que muchos usuarios terminan pagando un costo extra por el uso de internet.\n",
    "\n",
    "\n",
    "2. Con el análisis estadístico de la ganancia vemos que las ganancias para cada plan tienen diferente media y varianza. Esto lo confirma la prueba de hipótesis, que nos dice que en efecto, hay una diferencia entre las ganancias de ambos planes.\n",
    "    - Con estos resultados se concluye que aunque el ingreso promedio mensual es un poco mayor en el plan ultimate, el plan surf tiene más usuarios, y dado que ambos grupos de usuarios demandan un plan de datos, minutos y mensajes muy similar, *podría recomendar enfocar las estrategias de publicidad y marketing a este plan y tambien, extender la cobertura del plan surf en gigas y megas, para atender a mejor a las necesidades de la población de usuarios en general, pues asi, los usuarios estarán mas convencidos de contratar el plan al no verse en la necesidad de pagar cuotas extras.*\n",
    "\n",
    " \n",
    "3. De igual forma, al hacer una prueba de hipotesis para averiguar si las ganancias promedio de la región NY-NJ son diferentes a las de las otras regiones juntas, obtenemos como resultado una diferencia en estos ingresos. \n",
    "    - Con esto se comprueba que los ingresos obtenidos de una región densamente poblada como lo es NY-NJ, no pueden compararse con los ingresos obtenidos de usuarios de otras regiones, pues la diferencia entre ingresos es claramente significativa e incluso mayor para las otras regiones, de modo que, si queremos igualar las ganancias en la región NY-NJ, una estrategía de ventas y/o publicidad se debería enfocar en este sector."
   ]
  },
  {
   "cell_type": "markdown",
   "metadata": {},
   "source": [
    "<div class=\"alert alert-block alert-success\">\n",
    "<b>Comentario revisor</b> <a class=\"tocSkip\"></a>\n",
    "\n",
    "Veo todo muy bien, se notan los pasos a seguir y todos los procedimientos son claro ! </div>"
   ]
  },
  {
   "cell_type": "code",
   "execution_count": null,
   "metadata": {},
   "outputs": [],
   "source": []
  }
 ],
 "metadata": {
  "ExecuteTimeLog": [
   {
    "duration": 828,
    "start_time": "2021-11-16T09:21:11.304Z"
   },
   {
    "duration": 893,
    "start_time": "2021-11-16T09:21:17.728Z"
   },
   {
    "duration": 1150,
    "start_time": "2021-11-16T09:21:29.568Z"
   },
   {
    "duration": 3,
    "start_time": "2021-11-16T09:24:14.495Z"
   },
   {
    "duration": 120,
    "start_time": "2021-11-16T09:24:46.630Z"
   },
   {
    "duration": 3,
    "start_time": "2021-11-16T09:28:27.882Z"
   },
   {
    "duration": 4,
    "start_time": "2021-11-16T09:29:54.281Z"
   },
   {
    "duration": 3,
    "start_time": "2021-11-16T09:30:45.936Z"
   },
   {
    "duration": 4,
    "start_time": "2021-11-16T09:31:06.300Z"
   },
   {
    "duration": 113,
    "start_time": "2021-11-16T09:31:37.208Z"
   },
   {
    "duration": 143,
    "start_time": "2021-11-16T09:31:48.656Z"
   },
   {
    "duration": 98,
    "start_time": "2021-11-16T09:31:55.678Z"
   },
   {
    "duration": 3,
    "start_time": "2021-11-16T09:32:08.535Z"
   },
   {
    "duration": 111,
    "start_time": "2021-11-16T09:32:10.120Z"
   },
   {
    "duration": 3,
    "start_time": "2021-11-16T09:32:15.732Z"
   },
   {
    "duration": 4,
    "start_time": "2021-11-16T09:32:29.423Z"
   },
   {
    "duration": 3,
    "start_time": "2021-11-16T10:03:03.074Z"
   },
   {
    "duration": 3,
    "start_time": "2021-11-16T10:10:01.288Z"
   },
   {
    "duration": 3,
    "start_time": "2021-11-16T10:10:46.923Z"
   },
   {
    "duration": 121,
    "start_time": "2021-11-16T10:37:46.494Z"
   },
   {
    "duration": 125,
    "start_time": "2021-11-16T10:38:20.632Z"
   },
   {
    "duration": 112,
    "start_time": "2021-11-16T10:46:53.001Z"
   },
   {
    "duration": 110,
    "start_time": "2021-11-16T10:48:25.775Z"
   },
   {
    "duration": 3,
    "start_time": "2021-11-16T10:50:18.720Z"
   },
   {
    "duration": 4,
    "start_time": "2021-11-16T10:50:37.649Z"
   },
   {
    "duration": 2,
    "start_time": "2021-11-16T10:50:51.884Z"
   },
   {
    "duration": 3,
    "start_time": "2021-11-16T10:51:56.237Z"
   },
   {
    "duration": 101,
    "start_time": "2021-11-16T10:53:13.791Z"
   },
   {
    "duration": 3,
    "start_time": "2021-11-16T10:55:59.186Z"
   },
   {
    "duration": 3,
    "start_time": "2021-11-16T10:56:10.751Z"
   },
   {
    "duration": 3,
    "start_time": "2021-11-16T10:56:49.038Z"
   },
   {
    "duration": 3,
    "start_time": "2021-11-16T10:56:49.174Z"
   },
   {
    "duration": 4,
    "start_time": "2021-11-16T10:56:49.414Z"
   },
   {
    "duration": 3,
    "start_time": "2021-11-16T10:56:49.680Z"
   },
   {
    "duration": 3,
    "start_time": "2021-11-16T10:56:50.370Z"
   },
   {
    "duration": 114,
    "start_time": "2021-11-16T10:59:34.518Z"
   },
   {
    "duration": 3,
    "start_time": "2021-11-16T11:01:41.201Z"
   },
   {
    "duration": 116,
    "start_time": "2021-11-16T11:01:48.754Z"
   },
   {
    "duration": 3,
    "start_time": "2021-11-16T11:02:16.685Z"
   },
   {
    "duration": 3,
    "start_time": "2021-11-16T11:02:19.479Z"
   },
   {
    "duration": 3,
    "start_time": "2021-11-16T11:02:47.067Z"
   },
   {
    "duration": 3,
    "start_time": "2021-11-16T11:02:49.353Z"
   },
   {
    "duration": 3,
    "start_time": "2021-11-16T11:03:07.835Z"
   },
   {
    "duration": 3,
    "start_time": "2021-11-16T11:03:07.953Z"
   },
   {
    "duration": 112,
    "start_time": "2021-11-16T11:07:52.072Z"
   },
   {
    "duration": 187,
    "start_time": "2021-11-16T11:09:23.468Z"
   },
   {
    "duration": 4,
    "start_time": "2021-11-16T11:10:01.455Z"
   },
   {
    "duration": 3,
    "start_time": "2021-11-16T11:10:05.069Z"
   },
   {
    "duration": 4,
    "start_time": "2021-11-16T11:10:13.376Z"
   },
   {
    "duration": 3,
    "start_time": "2021-11-16T11:10:14.434Z"
   },
   {
    "duration": 3,
    "start_time": "2021-11-16T11:10:22.853Z"
   },
   {
    "duration": 4,
    "start_time": "2021-11-16T11:27:29.279Z"
   },
   {
    "duration": 4,
    "start_time": "2021-11-16T11:29:08.919Z"
   },
   {
    "duration": 118,
    "start_time": "2021-11-16T11:29:46.703Z"
   },
   {
    "duration": 437,
    "start_time": "2021-11-16T11:36:02.181Z"
   },
   {
    "duration": 157,
    "start_time": "2021-11-16T11:36:14.388Z"
   },
   {
    "duration": 207,
    "start_time": "2021-11-16T11:47:15.898Z"
   },
   {
    "duration": 3,
    "start_time": "2021-11-16T11:53:52.092Z"
   },
   {
    "duration": 3,
    "start_time": "2021-11-16T11:53:52.236Z"
   },
   {
    "duration": 3,
    "start_time": "2021-11-16T11:59:12.005Z"
   },
   {
    "duration": 112,
    "start_time": "2021-11-16T12:00:33.446Z"
   },
   {
    "duration": 3,
    "start_time": "2021-11-16T12:02:14.453Z"
   },
   {
    "duration": 3,
    "start_time": "2021-11-16T12:02:39.512Z"
   },
   {
    "duration": 106,
    "start_time": "2021-11-16T12:03:03.460Z"
   },
   {
    "duration": 3,
    "start_time": "2021-11-17T20:37:21.139Z"
   },
   {
    "duration": 3,
    "start_time": "2021-11-17T20:37:22.229Z"
   },
   {
    "duration": 3,
    "start_time": "2021-11-17T20:38:38.806Z"
   },
   {
    "duration": 3,
    "start_time": "2021-11-17T20:38:41.958Z"
   },
   {
    "duration": 3,
    "start_time": "2021-11-17T20:43:46.551Z"
   },
   {
    "duration": 4,
    "start_time": "2021-11-17T20:58:21.835Z"
   },
   {
    "duration": 3,
    "start_time": "2021-11-17T20:59:21.872Z"
   },
   {
    "duration": 4,
    "start_time": "2021-11-17T20:59:45.352Z"
   },
   {
    "duration": 4,
    "start_time": "2021-11-17T20:59:49.646Z"
   },
   {
    "duration": 159,
    "start_time": "2021-11-17T21:02:26.949Z"
   },
   {
    "duration": 3,
    "start_time": "2021-11-17T21:03:53.461Z"
   },
   {
    "duration": 3,
    "start_time": "2021-11-17T21:03:53.694Z"
   },
   {
    "duration": 3,
    "start_time": "2021-11-17T21:05:28.145Z"
   },
   {
    "duration": 116,
    "start_time": "2021-11-17T21:05:57.787Z"
   },
   {
    "duration": 3,
    "start_time": "2021-11-17T21:06:37.993Z"
   },
   {
    "duration": 3,
    "start_time": "2021-11-17T21:06:38.261Z"
   },
   {
    "duration": 3,
    "start_time": "2021-11-17T21:11:54.358Z"
   },
   {
    "duration": 3,
    "start_time": "2021-11-17T21:12:43.846Z"
   },
   {
    "duration": 4,
    "start_time": "2021-11-17T21:13:08.773Z"
   },
   {
    "duration": 3,
    "start_time": "2021-11-17T21:14:44.441Z"
   },
   {
    "duration": 3,
    "start_time": "2021-11-17T21:15:42.059Z"
   },
   {
    "duration": 4,
    "start_time": "2021-11-17T21:15:51.995Z"
   },
   {
    "duration": 3,
    "start_time": "2021-11-17T21:15:53.923Z"
   },
   {
    "duration": 3,
    "start_time": "2021-11-17T21:15:55.282Z"
   },
   {
    "duration": 3,
    "start_time": "2021-11-17T21:16:28.492Z"
   },
   {
    "duration": 3,
    "start_time": "2021-11-17T21:16:32.603Z"
   },
   {
    "duration": 3,
    "start_time": "2021-11-17T21:17:06.941Z"
   },
   {
    "duration": 98,
    "start_time": "2021-11-17T21:18:05.733Z"
   },
   {
    "duration": 4,
    "start_time": "2021-11-17T21:21:35.255Z"
   },
   {
    "duration": 3,
    "start_time": "2021-11-17T21:21:37.804Z"
   },
   {
    "duration": 4,
    "start_time": "2021-11-17T21:23:06.071Z"
   },
   {
    "duration": 3,
    "start_time": "2021-11-17T21:23:24.799Z"
   },
   {
    "duration": 3,
    "start_time": "2021-11-17T21:23:32.591Z"
   },
   {
    "duration": 98,
    "start_time": "2021-11-17T21:28:31.559Z"
   },
   {
    "duration": 3,
    "start_time": "2021-11-17T21:28:45.448Z"
   },
   {
    "duration": 3,
    "start_time": "2021-11-17T21:29:17.303Z"
   },
   {
    "duration": 3,
    "start_time": "2021-11-17T21:29:29.617Z"
   },
   {
    "duration": 3,
    "start_time": "2021-11-17T21:29:32.681Z"
   },
   {
    "duration": 3,
    "start_time": "2021-11-17T21:36:11.474Z"
   },
   {
    "duration": 3,
    "start_time": "2021-11-17T21:36:14.791Z"
   },
   {
    "duration": 3,
    "start_time": "2021-11-17T21:36:53.943Z"
   },
   {
    "duration": 3,
    "start_time": "2021-11-17T21:36:56.165Z"
   },
   {
    "duration": 4,
    "start_time": "2021-11-17T21:37:16.590Z"
   },
   {
    "duration": 3,
    "start_time": "2021-11-17T21:37:22.702Z"
   },
   {
    "duration": 4,
    "start_time": "2021-11-17T21:38:03.479Z"
   },
   {
    "duration": 3,
    "start_time": "2021-11-17T21:38:08.601Z"
   },
   {
    "duration": 3,
    "start_time": "2021-11-17T21:38:12.928Z"
   },
   {
    "duration": 3,
    "start_time": "2021-11-17T21:38:48.896Z"
   },
   {
    "duration": 2,
    "start_time": "2021-11-17T21:38:49.171Z"
   },
   {
    "duration": 4,
    "start_time": "2021-11-17T21:39:57.889Z"
   },
   {
    "duration": 3,
    "start_time": "2021-11-17T21:39:58.057Z"
   },
   {
    "duration": 3,
    "start_time": "2021-11-17T21:41:20.108Z"
   },
   {
    "duration": 3,
    "start_time": "2021-11-17T21:41:20.629Z"
   },
   {
    "duration": 3,
    "start_time": "2021-11-17T21:42:49.136Z"
   },
   {
    "duration": 3,
    "start_time": "2021-11-17T21:43:15.137Z"
   },
   {
    "duration": 4,
    "start_time": "2021-11-17T21:43:16.766Z"
   },
   {
    "duration": 4,
    "start_time": "2021-11-17T21:43:31.711Z"
   },
   {
    "duration": 3,
    "start_time": "2021-11-17T21:43:36.312Z"
   },
   {
    "duration": 4,
    "start_time": "2021-11-17T21:45:08.825Z"
   },
   {
    "duration": 4,
    "start_time": "2021-11-17T21:45:10.119Z"
   },
   {
    "duration": 4,
    "start_time": "2021-11-17T21:45:13.748Z"
   },
   {
    "duration": 3,
    "start_time": "2021-11-17T21:45:22.219Z"
   },
   {
    "duration": 3,
    "start_time": "2021-11-17T21:45:33.412Z"
   },
   {
    "duration": 2,
    "start_time": "2021-11-17T21:46:01.885Z"
   },
   {
    "duration": 3,
    "start_time": "2021-11-17T21:46:03.628Z"
   },
   {
    "duration": 107,
    "start_time": "2021-11-17T21:47:32.512Z"
   },
   {
    "duration": 103,
    "start_time": "2021-11-17T21:50:36.243Z"
   },
   {
    "duration": 3,
    "start_time": "2021-11-18T06:28:31.440Z"
   },
   {
    "duration": 3,
    "start_time": "2021-11-18T06:29:00.168Z"
   },
   {
    "duration": 3,
    "start_time": "2021-11-18T06:31:27.008Z"
   },
   {
    "duration": 2,
    "start_time": "2021-11-18T06:35:34.288Z"
   },
   {
    "duration": 2,
    "start_time": "2021-11-18T06:38:04.527Z"
   }
  ],
  "colab": {
   "provenance": []
  },
  "kernelspec": {
   "display_name": "Python 3 (ipykernel)",
   "language": "python",
   "name": "python3"
  },
  "language_info": {
   "codemirror_mode": {
    "name": "ipython",
    "version": 3
   },
   "file_extension": ".py",
   "mimetype": "text/x-python",
   "name": "python",
   "nbconvert_exporter": "python",
   "pygments_lexer": "ipython3",
   "version": "3.9.5"
  },
  "toc": {
   "base_numbering": 1,
   "nav_menu": {},
   "number_sections": true,
   "sideBar": true,
   "skip_h1_title": false,
   "title_cell": "Table of Contents",
   "title_sidebar": "Contents",
   "toc_cell": false,
   "toc_position": {},
   "toc_section_display": true,
   "toc_window_display": true
  }
 },
 "nbformat": 4,
 "nbformat_minor": 1
}
